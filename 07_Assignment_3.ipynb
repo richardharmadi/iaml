{
 "cells": [
  {
   "cell_type": "markdown",
   "metadata": {},
   "source": [
    "# Introductory applied machine learning (INFR10069)"
   ]
  },
  {
   "cell_type": "markdown",
   "metadata": {},
   "source": [
    "# Assignment 3: Object recognition"
   ]
  },
  {
   "cell_type": "markdown",
   "metadata": {},
   "source": [
    "## Marking Breakdown\n",
    "\n",
    "**70-100%** results/answer correct plus extra achievement at understanding or analysis of results. Clear explanations, evidence of creative or deeper thought will contribute to a higher grade.\n",
    "\n",
    "**60-69%** results/answer correct or nearly correct and well explained.\n",
    "\n",
    "**50-59%** results/answer in right direction but significant errors.\n",
    "\n",
    "**40-49%** some evidence that the student has gained some understanding, but not answered the questions\n",
    "properly.\n",
    "\n",
    "**0-39%** serious error or slack work."
   ]
  },
  {
   "cell_type": "markdown",
   "metadata": {},
   "source": [
    "## Mechanics\n",
    "\n",
    "You should produce a Jupyter notebook and a `.txt` file (see Part 2) in answer to this assignment.\n",
    "**You need to submit these two files electronically as described below.**\n",
    "\n",
    "Place your notebook and `.txt` files **only** in a directory called `iamlans` and submit this directory using the submit command on a DICE machine. The format is:\n",
    "\n",
    "`submit iaml 3 iamlans`\n",
    "\n",
    "You can check the status of your submissions with the `show_submissions` command.\n",
    "\n",
    "**Late submissions:** The policy stated in the School of Informatics MSc Degree Guide is that normally you will not be allowed to submit coursework late. See http://www.inf.ed.ac.uk/teaching/years/msc/courseguide10.html#exam for exceptions to this, e.g. in case of serious medical illness or serious personal problems.\n",
    "\n",
    "**Collaboration:** You may discuss the assignment with your colleagues, provided that the writing that you submit is entirely your own. That is, you should NOT borrow actual text or code from other students. We ask that you provide a list of the people who you've had discussions with (if any).\n"
   ]
  },
  {
   "cell_type": "markdown",
   "metadata": {},
   "source": [
    "## Important Instructions\n",
    "\n",
    "1. In the following questions you are asked to run experiments using Python (version 2.7) and the following packages:\n",
    "    * Numpy\n",
    "    * Pandas\n",
    "    * Scikit-learn 0.17\n",
    "    * Matplotlib\n",
    "    * Seaborn\n",
    "\n",
    "2. Before you start make sure you have set up a vitual environment (or conda environment if you are working on your own machine) and the required packages installed. Instructions on how to set-up the working enviornment and install the required packages can be found in `01_Lab_1_Introduction`.\n",
    "\n",
    "3. Wherever you are required to produce code you should use code cells, otherwise you should use markdown cells to report results and explain answers.\n",
    "\n",
    "4. The .csv files that you will be using are located at `./datasets` (the `datasets` directory is adjacent to this file).\n",
    "\n",
    "5. **IMPORTANT:** Keep your answers brief and concise. Most questions can be answered with 2-3 lines of explanation (excluding coding questions), unless stated otherwise."
   ]
  },
  {
   "cell_type": "markdown",
   "metadata": {},
   "source": [
    "## Imports\n",
    "\n",
    "In this assignment you are asked to import all the packages and modules you will need. Include all required imports and execute the cell below."
   ]
  },
  {
   "cell_type": "code",
   "execution_count": 226,
   "metadata": {
    "collapsed": false
   },
   "outputs": [],
   "source": [
    "from __future__ import print_function, division\n",
    "%matplotlib inline\n",
    "\n",
    "# Your code goes here\n",
    "import os\n",
    "import numpy as np\n",
    "import pandas as pd\n",
    "import matplotlib.pyplot as plt\n",
    "import seaborn as sns\n",
    "from sklearn.cross_validation import KFold, cross_val_predict\n",
    "from sklearn.linear_model import LogisticRegression, LogisticRegressionCV\n",
    "from sklearn.preprocessing import StandardScaler\n",
    "from sklearn.ensemble import RandomForestClassifier"
   ]
  },
  {
   "cell_type": "markdown",
   "metadata": {},
   "source": [
    "## Description of the dataset\n",
    "In this assignment our goal is to recognize objects from 19 di\u000b",
    "erent visual classes (e.g. person, dog, cat, car, ...) in realistic scenes. The dataset consists of several thousands photographs harvested from the web. Each object of a relevant class has been manually annotated with a bounding box. Images can contain none, one or multiple objects of each class. We have prepared a [website](http://www.inf.ed.ac.uk/teaching/courses/iaml/2014/assts/asst3/images.html) where you can view the images.\n",
    "\n",
    "Here we will focus on a single classiffication task: you will be required to classify images as to whether or not they contain a person. To save you time and to make the problem manageable with limited computational resources, we have preprocessed the dataset. We will use the [Bag of Visual Words](https://en.wikipedia.org/wiki/Bag-of-words_model_in_computer_vision) representation. That is, each image is represented by a 500 dimensional vector that contains the normalized count for each of 500 diffeerent visual words present in the respective image (a similar representation is used for the spambase dataset, just for real words). Visual words are based on [Scale-invariant feature transforms (SIFT)](https://en.wikipedia.org/wiki/Scale-invariant_feature_transform). SIFT features are essentially local orientation histograms and capture the properties of small image regions. They possess attractive invariance properties which make them well suited for our task (you can read more about SIFT features in [D.Lowe, IJCV 60(2):91- 110, 2004](http://link.springer.com/article/10.1023/B:VISI.0000029664.99615.94), but the details don't matter for the purpose of this assignment). Each SIFT feature is a 128 dimensional vector. From each image many SIFT features are extracted, typically > 2500 per image (features are extracted at regular intervals using a 15 pixel grid and at 4 different scales). To obtain visual words a representative subset of all extracted SIFT features from all images is chosen and clustered with k-means using 500 centres (such use of the k-means algorithm will be discussed in detail during the lecture). These 500 cluster centres form our visual words. The representation of a single image is obtained by first assigning each SIFT feature extracted from the image to the appropriate cluster (i.e. we determine the visual word corresponding to each feature by picking the closest cluster centre). We then count the number of features from that image assigned to each cluster (i.e. we determine how often each visual word is present in the image). This results in a 500 dimensional count vector for each image (one dimension for each visual word). The normalized version of this count vector gives the final representation of the image (normalized means that we divide the count vector by the total number of visual words in the image, i.e. the normalized counts sum to 1 for each image). Our dataset with all images is thus a $N \\times 500$ dimensional matrix where `N` is the number of images. The resulting representation is much more compact and can be used directly to perform classiffication.\n",
    "\n",
    "The full dataset has 520 attributes (dimensions). The first attribute (`imgID`) contains the image ID which allows you to associate a data point with an actual image. The next 500 attributes (`dim1`, ..., `dim500`) correspond to the normalized count vector. The last 19 attributes (`is_class`) indicate the presence of at least one object of a particular class in the image. In most of the experiments (unless explicitly noted otherwise) you will be asked to train classiffiers for classifying person vs. non-person images and only the `is_person` attribute and the 500 dimensional feature vector will be used. Do not use the additional class indicator attributes as features unless explicitly told to do so. \n",
    "\n",
    "In Part A we provide you with a training (`train_images partA.csv`) and a validation (`valid_images partA .csv`) dataset. In Part B we provide three data sets: a training set (`train_images partB.csv`), a validation set (`valid_images partB.csv`), and a test set (`test_images partB.csv`). The training and validation set contain valid labels. In the test set the labels are missing. The files are available from the GitHub repository. \n",
    "\n",
    "*Important: Throughout the assignment you will be given various versions of the dataset that are relevant\n",
    "to a particular question. Please be careful to use the correct version of the dataset when instructed to do so.\n",
    "If you use the wrong version of the dataset by mistake no marks will be awarded.*"
   ]
  },
  {
   "cell_type": "markdown",
   "metadata": {},
   "source": [
    "## 1. Exploration of the dataset [70%]"
   ]
  },
  {
   "cell_type": "markdown",
   "metadata": {},
   "source": [
    "### ========== Question 1.1 ==========\n",
    "Load the datasets `train_images_partA.csv` and `valid_images_partA.csv` into two pandas DataFrame called `train_A` and `valid_A`. Display the number of data points and attributes in each of the two datasets."
   ]
  },
  {
   "cell_type": "code",
   "execution_count": 199,
   "metadata": {
    "collapsed": false
   },
   "outputs": [
    {
     "name": "stdout",
     "output_type": "stream",
     "text": [
      "<class 'pandas.core.frame.DataFrame'>\n",
      "RangeIndex: 2093 entries, 0 to 2092\n",
      "Columns: 520 entries, imgId to is_tvmonitor\n",
      "dtypes: float64(495), int64(24), object(1)\n",
      "memory usage: 8.3+ MB\n",
      "None\n",
      "<class 'pandas.core.frame.DataFrame'>\n",
      "RangeIndex: 1113 entries, 0 to 1112\n",
      "Columns: 520 entries, imgId to is_tvmonitor\n",
      "dtypes: float64(494), int64(25), object(1)\n",
      "memory usage: 4.4+ MB\n",
      "None\n"
     ]
    }
   ],
   "source": [
    "# Your code goes here\n",
    "train_A_path = os.path.join(os.getcwd(),'datasets','train_images_partA.csv') # train A data path\n",
    "valid_A_path = os.path.join(os.getcwd(),'datasets','valid_images_partA.csv') # valid A data path\n",
    "\n",
    "train_A = pd.read_csv(train_A_path,delimiter=',') # read csv and assign it to a dataframe\n",
    "valid_A = pd.read_csv(valid_A_path,delimiter=',')\n",
    "\n",
    "print (train_A.info()) # display the number of datapoints (rangeIndex) and attributes (columns) \n",
    "print (valid_A.info())\n",
    "\n",
    "#train A have 2093 datapoints, and 520 attributes\n",
    "#valid A have 1113 datapoints, and 520 attributes"
   ]
  },
  {
   "cell_type": "markdown",
   "metadata": {},
   "source": [
    "### ========== Question 1.2 ==========\n",
    "Display and inspect the first 10 instances in the training dataset."
   ]
  },
  {
   "cell_type": "code",
   "execution_count": 200,
   "metadata": {
    "collapsed": false
   },
   "outputs": [
    {
     "name": "stdout",
     "output_type": "stream",
     "text": [
      "         imgId      dim1      dim2      dim3      dim4      dim5      dim6  \\\n",
      "0  2008_000008  0.002232  0.000558  0.002790  0.000837  0.001674  0.001953   \n",
      "1  2008_000015  0.001563  0.000391  0.007422  0.003516  0.003906  0.005078   \n",
      "2  2008_000019  0.000521  0.000000  0.000000  0.001042  0.001563  0.005729   \n",
      "3  2008_000023  0.002976  0.002232  0.004464  0.000372  0.000372  0.002232   \n",
      "4  2008_000028  0.001359  0.000340  0.001359  0.000340  0.001359  0.002038   \n",
      "5  2008_000033  0.000000  0.006324  0.000372  0.000372  0.000372  0.000372   \n",
      "6  2008_000036  0.000340  0.000000  0.004416  0.000340  0.000679  0.006114   \n",
      "7  2008_000037  0.000837  0.002232  0.000279  0.000279  0.000837  0.000000   \n",
      "8  2008_000041  0.002378  0.001359  0.004755  0.001019  0.003736  0.001359   \n",
      "9  2008_000045  0.001019  0.000340  0.006454  0.001698  0.001359  0.003736   \n",
      "\n",
      "       dim7      dim8      dim9      ...       is_cow  is_diningtable  is_dog  \\\n",
      "0  0.001395  0.002232  0.003627      ...            0               0       0   \n",
      "1  0.001953  0.002344  0.001953      ...            0               0       0   \n",
      "2  0.000521  0.002083  0.003646      ...            0               0       1   \n",
      "3  0.000000  0.003720  0.000000      ...            0               0       0   \n",
      "4  0.002378  0.000000  0.003397      ...            0               0       0   \n",
      "5  0.000744  0.008185  0.000372      ...            0               0       0   \n",
      "6  0.001359  0.002717  0.003057      ...            0               0       0   \n",
      "7  0.000279  0.006696  0.000000      ...            0               0       0   \n",
      "8  0.001019  0.004076  0.003397      ...            0               1       0   \n",
      "9  0.000000  0.004076  0.000000      ...            0               0       0   \n",
      "\n",
      "   is_horse  is_motorbike  is_person  is_pottedplant  is_sheep  is_sofa  \\\n",
      "0         1             0          1               0         0        0   \n",
      "1         0             0          0               0         0        0   \n",
      "2         0             0          0               0         0        0   \n",
      "3         0             0          1               0         0        0   \n",
      "4         0             0          0               0         0        0   \n",
      "5         0             0          0               0         0        0   \n",
      "6         0             0          1               0         0        0   \n",
      "7         0             0          0               0         0        0   \n",
      "8         0             0          1               0         0        0   \n",
      "9         0             0          0               0         0        0   \n",
      "\n",
      "   is_tvmonitor  \n",
      "0             0  \n",
      "1             0  \n",
      "2             0  \n",
      "3             1  \n",
      "4             0  \n",
      "5             0  \n",
      "6             0  \n",
      "7             0  \n",
      "8             0  \n",
      "9             0  \n",
      "\n",
      "[10 rows x 520 columns]\n"
     ]
    }
   ],
   "source": [
    "# Your code goes here\n",
    "print(train_A.head(10))"
   ]
  },
  {
   "cell_type": "markdown",
   "metadata": {},
   "source": [
    "### ========== Question 1.3 ==========\n",
    "In this part we want to select the appopriate attributes (i.e. input features) for training our classifiers. These should be the attributes `dim1, dim2, ..., dim500`. Create a list which has as elements the **names** of the attributes of interest. "
   ]
  },
  {
   "cell_type": "code",
   "execution_count": 229,
   "metadata": {
    "collapsed": false
   },
   "outputs": [],
   "source": [
    "# Your code goes here\n",
    "input_features = train_A.columns.values.tolist()\n",
    "input_features = input_features[1:501] # index 1 is dim 1, index 501 is dim 500"
   ]
  },
  {
   "cell_type": "markdown",
   "metadata": {},
   "source": [
    "### ========== Question 1.4 --- [1 mark] ==========\n",
    "By using the list from Question 1.3 now create 4 numpy arrays `X_tr`, `X_val`, `y_tr` and `y_val` and store the training features, validation features, training targets, and validation targets, respectively. Your target vectors should correspond to the `is_person` attribute of the training and validation sets (also make sure you do not include this attribute in your training features). Display the dimensionalities (i.e shapes) of the 4 arrays and make sure your input data are 500-dimensional."
   ]
  },
  {
   "cell_type": "code",
   "execution_count": 202,
   "metadata": {
    "collapsed": false
   },
   "outputs": [],
   "source": [
    "# Your code goes here\n",
    "X_tr = pd.DataFrame()\n",
    "X_val = pd.DataFrame()\n",
    "\n",
    "for feature in input_features :\n",
    "    X_tr[feature] = train_A[feature]\n",
    "    X_val[feature] = valid_A[feature]\n",
    "    \n",
    "y_tr = train_A['is_person']\n",
    "y_val = valid_A['is_person']"
   ]
  },
  {
   "cell_type": "markdown",
   "metadata": {},
   "source": [
    "### ========== Question 1.5 ==========\n",
    "Show two [countplots](https://seaborn.github.io/generated/seaborn.countplot.html?highlight=countplot#seaborn.countplot) of the targets in a single plot, one for the training and one for the validation set. Label axes appropriately and add a title to your plot. Use descriptive `xticklabels` instead of the default numeric ones."
   ]
  },
  {
   "cell_type": "code",
   "execution_count": 203,
   "metadata": {
    "collapsed": false
   },
   "outputs": [
    {
     "data": {
      "image/png": "[encoded data removed]",
      "text/plain": [
       "<matplotlib.figure.Figure at 0x10e76a3d0>"
      ]
     },
     "metadata": {},
     "output_type": "display_data"
    }
   ],
   "source": [
    "# Your code goes here\n",
    "fig, (ax1, ax2) = plt.subplots(1,2, figsize=(8,4))\n",
    "sns.countplot(y_tr, ax=ax1)\n",
    "ax1.set_title('Training set', size=8)\n",
    "ax1.set_xlabel(' ')\n",
    "sns.countplot(y_val, ax=ax2)\n",
    "ax2.set_xlabel(' ')\n",
    "ax2.set_ylabel('')\n",
    "ax2.set_title('Validation set', size=8)\n",
    "fig.suptitle('Target distribution - is_person', size=10)\n",
    "plt.show()"
   ]
  },
  {
   "cell_type": "markdown",
   "metadata": {},
   "source": [
    "### ========== Question 1.6 ==========\n",
    "What would be a good choice for a baseline classifier to compare your results in the next steps against? What classification accuracy score does the baseline classifier achieve in the validation set?"
   ]
  },
  {
   "cell_type": "markdown",
   "metadata": {},
   "source": [
    "*Your answer goes here*\n",
    "A classifier that always predict a picture as a person.\n"
   ]
  },
  {
   "cell_type": "code",
   "execution_count": 204,
   "metadata": {
    "collapsed": false
   },
   "outputs": [
    {
     "name": "stdout",
     "output_type": "stream",
     "text": [
      "Accuracy score :  0.473495058401\n"
     ]
    }
   ],
   "source": [
    "# Your code goes here\n",
    "print ('Accuracy score : ',(len(y_val[y_val==1])/len(y_val)))"
   ]
  },
  {
   "cell_type": "markdown",
   "metadata": {},
   "source": [
    "### ========== Question 1.7 ==========\n",
    "Train a [`LogisticRegression`](http://scikit-learn.org/0.17/modules/generated/sklearn.linear_model.LogisticRegression.html) classifier by using default settings, except for the `solver` parameter which you should set to `lbfgs`. Report the classification accuracy score in the training and validation sets and compare to that of the baseline classifier. Comment in 1-2 sentences the results. You may include any additional plot(s) if you wish to justify your explanation."
   ]
  },
  {
   "cell_type": "code",
   "execution_count": 205,
   "metadata": {
    "collapsed": false,
    "scrolled": false
   },
   "outputs": [
    {
     "name": "stdout",
     "output_type": "stream",
     "text": [
      "Accuracy Score (training data):  0.55088389871\n",
      "Accuracy Score (validation data):  0.526504941599\n"
     ]
    },
    {
     "data": {
      "image/png": "[encoded data removed]",
      "text/plain": [
       "<matplotlib.figure.Figure at 0x117e9b6d0>"
      ]
     },
     "metadata": {},
     "output_type": "display_data"
    }
   ],
   "source": [
    "# Your code goes here\n",
    "clf = LogisticRegression(solver='lbfgs')\n",
    "clf.fit(X_tr,y_tr)\n",
    "\n",
    "print ('Accuracy Score (training data): ', clf.score(X_tr,y_tr))\n",
    "print ('Accuracy Score (validation data): ', clf.score(X_val,y_val))\n",
    "\n",
    "fig, (ax1, ax2) = plt.subplots(1,2, figsize=(8,4))\n",
    "sns.countplot(clf.predict(X_tr), ax=ax1)\n",
    "ax1.set_title('Training set', size=8)\n",
    "ax1.set_xlabel(' ')\n",
    "sns.countplot(clf.predict(X_val), ax=ax2)\n",
    "ax2.set_xlabel(' ')\n",
    "ax2.set_ylabel('')\n",
    "ax2.set_title('Validation set', size=8)\n",
    "fig.suptitle('Classification result', size=10)\n",
    "plt.show()\n"
   ]
  },
  {
   "cell_type": "markdown",
   "metadata": {},
   "source": [
    "*Your answer goes here*\n",
    "The logistic regression classifier predicts both our training inputs and validation inputs a non-person. It does shows some improvement compared to our baseline classifier which always classified a picture as a person.\n",
    " "
   ]
  },
  {
   "cell_type": "markdown",
   "metadata": {},
   "source": [
    "### ========== Question 1.8 ==========\n",
    "Display the means and standard deviations of the first 5 features in the training set. *Hint: you want to compute the means and standard deviations across the columns of your arrays. Make sure you make appropriate use of the `axis` parameter.*"
   ]
  },
  {
   "cell_type": "code",
   "execution_count": 206,
   "metadata": {
    "collapsed": false
   },
   "outputs": [
    {
     "name": "stdout",
     "output_type": "stream",
     "text": [
      "Mean :\n",
      "dim1    0.001751\n",
      "dim2    0.000756\n",
      "dim3    0.004317\n",
      "dim4    0.001853\n",
      "dim5    0.002272\n",
      "dtype: float64 \n",
      "\n",
      "Standard deviation :\n",
      "dim1    0.001193\n",
      "dim2    0.001406\n",
      "dim3    0.003693\n",
      "dim4    0.001340\n",
      "dim5    0.001598\n",
      "dtype: float64\n"
     ]
    }
   ],
   "source": [
    "# Your code goes here\n",
    "np.set_printoptions(precision=3)\n",
    "print ('Mean :')\n",
    "print (train_A.mean(axis=0)[0:5],'\\n')\n",
    "print ('Standard deviation :')\n",
    "print (train_A.std(axis=0)[0:5])"
   ]
  },
  {
   "cell_type": "raw",
   "metadata": {},
   "source": [
    "### ========== Question 1.9 ==========\n",
    "Feature standardisation is a pre-processing technique used to transform data so that they have zero mean and unit standard deviation. For many algorithms, this is a very important step for training models (both regression and classification). Read about [feature standardisation](http://scikit-learn.org/0.17/modules/preprocessing.html) and make sure you understand what kind of transformation this method applies to the data.\n",
    "\n",
    "`Scikit-learn` offers an [implementation](http://scikit-learn.org/0.17/modules/generated/sklearn.preprocessing.StandardScaler.html) of feature standardisation. Create a standardiser and fit it by using training features only. Then transform both your input and validation input features. \n",
    "\n",
    "Once your training and validation input data have been transformed, display the means and standard deviations of the first 5 attributes for **both** the training and validation sets. Are the results as you expected? Explain your answer in 2-3 sentences. \n",
    "\n",
    "**IMPORTANT: You should use the transformed data for the rest of part A**."
   ]
  },
  {
   "cell_type": "code",
   "execution_count": 207,
   "metadata": {
    "collapsed": false,
    "scrolled": true
   },
   "outputs": [
    {
     "name": "stdout",
     "output_type": "stream",
     "text": [
      "Mean (train data):\n",
      "[ -3.395e-17  -2.207e-17   2.444e-16   1.426e-16  -5.771e-17] \n",
      "\n",
      "Standard deviation (train data):\n",
      "[ 1.  1.  1.  1.  1.] \n",
      "\n",
      "Mean (validation data):\n",
      "[  3.830e-17   1.277e-17  -1.468e-16   2.426e-16  -1.213e-16] \n",
      "\n",
      "Standard deviation (validation data:\n",
      "[ 1.  1.  1.  1.  1.] \n",
      "\n"
     ]
    },
    {
     "data": {
      "image/png": "[encoded data removed]",
      "text/plain": [
       "<matplotlib.figure.Figure at 0x1129f1790>"
      ]
     },
     "metadata": {},
     "output_type": "display_data"
    }
   ],
   "source": [
    "# Your code goes here\n",
    "scl = StandardScaler()\n",
    "trfX_tr =  scl.fit_transform(X_tr)\n",
    "trfX_val = scl.fit_transform(X_val)\n",
    "\n",
    "print ('Mean (train data):')\n",
    "print (trfX_tr.mean(axis=0)[0:5],'\\n')\n",
    "print ('Standard deviation (train data):')\n",
    "print (trfX_tr.std(axis=0)[0:5],'\\n')\n",
    "\n",
    "print ('Mean (validation data):')\n",
    "print (trfX_val.mean(axis=0)[0:5],'\\n')\n",
    "print ('Standard deviation (validation data:')\n",
    "print (trfX_val.std(axis=0)[0:5],'\\n')\n",
    "\n",
    "nrow = 2; ncol = 5; #1st row will be training data, 2nd row for validation data\n",
    "fig, axs = plt.subplots(nrows=2, ncols=5,figsize=(20, 10))\n",
    "\n",
    "axs = axs.ravel() #axs reshape to 1D array\n",
    "for i in range(5): #axs reshape to 1D array\n",
    "    axs[i].set_title('Distribution {0}th feature (train data)'.format(i+1))\n",
    "    axs[i].set_xlabel('Value')\n",
    "    axs[i].set_ylabel('Frequency')\n",
    "    axs[i].hist(trfX_tr[i])\n",
    "\n",
    "for i in range(5,10):\n",
    "    axs[i].set_title('Distribution {0}th feature (valid data)'.format(i+1))\n",
    "    axs[i].set_xlabel('Value')\n",
    "    axs[i].set_ylabel('Frequency')\n",
    "    axs[i].hist(trfX_val[i])"
   ]
  },
  {
   "cell_type": "markdown",
   "metadata": {},
   "source": [
    "*Your answer goes here*\n",
    "It shows that the data got distributed almost like standard normal distribution, and all of it have unit variance as expected."
   ]
  },
  {
   "cell_type": "markdown",
   "metadata": {},
   "source": [
    "### ========== Question 1.10 ==========\n",
    "By using the transformed input data, retrain a `LogisticRegression` classifier. Again, set the `solver` parameter to `lbfgs` and use default settings for the other parameters. Report the classification accuracy in both the training and validation sets. How does your model compare to the baseline classifier from Question 1.6? You may use additional plot(s) to support your explanation."
   ]
  },
  {
   "cell_type": "code",
   "execution_count": 208,
   "metadata": {
    "collapsed": false
   },
   "outputs": [
    {
     "name": "stdout",
     "output_type": "stream",
     "text": [
      "Accuracy Score (training data):  0.810797897754\n",
      "Accuracy Score (validation data):  0.642407906559\n"
     ]
    },
    {
     "data": {
      "image/png": "[encoded data removed]",
      "text/plain": [
       "<matplotlib.figure.Figure at 0x110ece310>"
      ]
     },
     "metadata": {},
     "output_type": "display_data"
    }
   ],
   "source": [
    "# Your code goes here\n",
    "newclf = LogisticRegression(solver='lbfgs')\n",
    "newclf.fit(trfX_tr,y_tr)\n",
    "\n",
    "print ('Accuracy Score (training data): ', newclf.score(trfX_tr,y_tr))\n",
    "print ('Accuracy Score (validation data): ', newclf.score(trfX_val,y_val))\n",
    "\n",
    "fig, (ax1, ax2) = plt.subplots(1,2, figsize=(8,4))\n",
    "sns.countplot(clf.predict(trfX_tr), ax=ax1)\n",
    "ax1.set_title('Training set', size=8)\n",
    "ax1.set_xlabel(' ')\n",
    "sns.countplot(clf.predict(trfX_val), ax=ax2)\n",
    "ax2.set_xlabel(' ')\n",
    "ax2.set_ylabel('')\n",
    "ax2.set_title('Validation set', size=8)\n",
    "fig.suptitle('Classification result', size=10)\n",
    "plt.show()\n",
    "\n"
   ]
  },
  {
   "cell_type": "markdown",
   "metadata": {},
   "source": [
    "*Your answer goes here*\n",
    "The performance on both training data and validation data has improved significantly.\n"
   ]
  },
  {
   "cell_type": "markdown",
   "metadata": {},
   "source": [
    "### ========== Question 1.11 ==========\n",
    "So far we have used default settings for training the logistic regression classifier. Now, we want to use [K-fold cross-validation](http://scikit-learn.org/0.17/modules/generated/sklearn.cross_validation.KFold.html) to optimise the regularisation parameter `C`. The regularisation parameter controls the degree to which we wish to penalise large magnitudes for the weight vector. Thus, it helps us prevent overfitting and, for logistic regression, it additionally controls the level of confidence in making predictions.\n",
    "\n",
    "We would like to optimise this parameter **by using the transformed training dataset only** and not the validation set. Create a 3-fold cross-validation object for the training dataset. Set the `shuffle` parameter to `True` and the `random_state` to `0`. By using the cross-validation iterator, display the number of test samples in each iteration fold."
   ]
  },
  {
   "cell_type": "code",
   "execution_count": 209,
   "metadata": {
    "collapsed": false
   },
   "outputs": [
    {
     "name": "stdout",
     "output_type": "stream",
     "text": [
      "Number of test samples in each iteration\n",
      "698 samples\n",
      "698 samples\n",
      "697 samples\n"
     ]
    }
   ],
   "source": [
    "# Your code goes here\n",
    "kf = KFold(trfX_tr.shape[0],n_folds=3,shuffle=True,random_state=0)\n",
    "print ('Number of test samples in each iteration')\n",
    "\n",
    "for train_index, test_index in kf: # for every index in the iterator\n",
    "    X_train,X_test = trfX_tr[train_index],trfX_tr[test_index]\n",
    "    y_train,y_test = y_tr[train_index],y_tr[test_index]\n",
    "    print (X_test.shape[0],'samples')"
   ]
  },
  {
   "cell_type": "markdown",
   "metadata": {},
   "source": [
    "### ========== Question 1.12 ========== \n",
    "Now we want to test out different settings for the regularisation parameter `C` by using the cross-validation iterator from the previous question. For each iteration, we want to train multiple classifiers by using a range of values for `C` and then compute the performance within each CV fold. You should use a log-range for `C` from `1e-5` to `1e5` by using 20 equally-spaced values *(hint: look at the `logspace()` function in numpy)*. \n",
    "\n",
    "Create a 2-dimensional array and, for each cross-validation fold and parameter setting pair, compute and store the classification accuracy score e.g. store the score of fold 0 with parameter setting 1 at score_array[0,1]. As previously, set the `solver` parameter to `lbfgs` and use default settings for the other parameters.\n",
    "\n",
    "*(hint: your may want to use two loops in your code; one iterating over CV folds and another one iterating over the values for `C`)*. "
   ]
  },
  {
   "cell_type": "code",
   "execution_count": 210,
   "metadata": {
    "collapsed": false
   },
   "outputs": [
    {
     "name": "stdout",
     "output_type": "stream",
     "text": [
      "Accuracy score for each c in 1st fold\n",
      " [0.57306590257879653, 0.62893982808022919, 0.66762177650429799, 0.67191977077363896, 0.68767908309455583, 0.69627507163323787, 0.67478510028653294, 0.67048710601719197, 0.65329512893982811, 0.65902578796561606, 0.65902578796561606, 0.65329512893982811, 0.64899713467048714, 0.64613180515759316, 0.64613180515759316, 0.64899713467048714, 0.64613180515759316, 0.64613180515759316, 0.64899713467048714, 0.64899713467048714] \n",
      "\n",
      "Accuracy score for each c in 2nd fold\n",
      " [0.54584527220630374, 0.63180515759312317, 0.69484240687679089, 0.71919770773638969, 0.72922636103151861, 0.73495702005730656, 0.70200573065902583, 0.67478510028653294, 0.6547277936962751, 0.63610315186246413, 0.63180515759312317, 0.63323782234957016, 0.62607449856733521, 0.6275071633237822, 0.6275071633237822, 0.62607449856733521, 0.62607449856733521, 0.62607449856733521, 0.6275071633237822, 0.62607449856733521] \n",
      "\n",
      "Accuracy score for each c in 3rd fold\n",
      " [0.54806312769010046, 0.63558106169296991, 0.642754662840746, 0.65566714490674316, 0.68005738880918221, 0.70014347202295557, 0.68149210903873747, 0.67001434720229558, 0.66284074605451937, 0.64418938307030127, 0.63271162123385938, 0.62553802008608317, 0.62410329985652802, 0.62410329985652802, 0.62410329985652802, 0.62410329985652802, 0.62410329985652802, 0.62410329985652802, 0.62410329985652802, 0.62410329985652802]\n"
     ]
    }
   ],
   "source": [
    "# Your code goes here\n",
    "\n",
    "ls = np.logspace(-5, 5, num=20)\n",
    "score_array=[]   \n",
    "\n",
    "for train_index,test_index in kf :\n",
    "    X_train,X_test = trfX_tr[train_index],trfX_tr[test_index]\n",
    "    y_train,y_test = y_tr[train_index],y_tr[test_index]\n",
    "    score = []\n",
    "    for c in ls :\n",
    "        lr = LogisticRegression(solver='lbfgs',C=c)\n",
    "        lr.fit(X_train,y_train)\n",
    "        score.append(lr.score(X_test,y_test))\n",
    "    score_array.append(score)\n",
    "\n",
    "print ('Accuracy score for each c in 1st fold\\n',score_array[0],'\\n')\n",
    "print ('Accuracy score for each c in 2nd fold\\n',score_array[1],'\\n')\n",
    "print ('Accuracy score for each c in 3rd fold\\n',score_array[2])"
   ]
  },
  {
   "cell_type": "markdown",
   "metadata": {},
   "source": [
    "### ========== Question 1.13 ========== \n",
    "Plot the mean classification performance (across CV folds) of the logistic regression classifier against the regularisation parameter `C` by using the range from Question 1.12. Use a logarithmic scale for the x-axis and label both axes appropriately. "
   ]
  },
  {
   "cell_type": "code",
   "execution_count": 211,
   "metadata": {
    "collapsed": false
   },
   "outputs": [
    {
     "data": {
      "image/png": "[encoded data removed]",
      "text/plain": [
       "<matplotlib.figure.Figure at 0x10e7389d0>"
      ]
     },
     "metadata": {},
     "output_type": "display_data"
    }
   ],
   "source": [
    "# Your code goes here\n",
    "mean_performance =  np.mean(score_array, axis=0)\n",
    "log_param_c = np.log10(ls)\n",
    "\n",
    "plt.title('Accuracy Score against regularisation parameter')\n",
    "plt.plot(log_param_c,mean_performance)\n",
    "plt.xlabel('log parameter C', fontsize=14)\n",
    "plt.ylabel('Acc score', fontsize=14)\n",
    "plt.show()"
   ]
  },
  {
   "cell_type": "markdown",
   "metadata": {},
   "source": [
    "### ========== Question 1.14 ==========\n",
    "Find and display the optimal value for the regularisation parameter `C` of the logistic classifier by using your results from Question 1.12. Similarly to Question 1.13, consider the mean classifiation accuracy across CV folds. By using the optimal value (i.e. the one that yields the highest average classification accuracy) train a new `LogisticRegression` classifier and report the classification accuracy on the validation set. *(Hint: Do not pick the optimal value \"by hand\", instead use an appropriate numpy function).*"
   ]
  },
  {
   "cell_type": "code",
   "execution_count": 197,
   "metadata": {
    "collapsed": false
   },
   "outputs": [
    {
     "name": "stdout",
     "output_type": "stream",
     "text": [
      "Optimal value of regularisation parameter: 0.00428133239872 \n",
      "\n",
      "Accuracy score on validation data: 0.690026954178\n"
     ]
    }
   ],
   "source": [
    "# Your code goes here\n",
    "cmax = ls[mean_performance.argmax()] # argmax returns the index of maximum values\n",
    "print ('Optimal value of regularisation parameter:',cmax,'\\n')\n",
    "# that index is where our desired value located at in the regularisation parameter C array\n",
    "maxclf =  LogisticRegression(solver='lbfgs',C=cmax)\n",
    "maxclf.fit(trfX_tr,y_tr) # train the new classifier with our training data\n",
    "\n",
    "print ('Accuracy score on validation data:',maxclf.score(trfX_val,y_val)) # evaluate our accuracy score"
   ]
  },
  {
   "cell_type": "markdown",
   "metadata": {},
   "source": [
    "### ========== Question 1.15 ========== \n",
    "Scikit-learn offers a [`LogisticRegressionCV`](http://scikit-learn.org/0.17/modules/generated/sklearn.linear_model.LogisticRegressionCV.html) module which implements Logistic Regression with builtin cross-validation to find out the optimal `C` parameter. You can specify the range for the `C` parameter, as well as the cross-validation method you want to use with the `Cs` and `cv` parameters, respectively. Use the `C` range you set up in Question 1.12 and the 3-fold cross-validation iterator from Question 1.11. Once again, train the models by using the `lbfgs` optimisation method and display the optimal value for the parameter `C`. Finally, display the classification accuracy on the validation set. Can you verify that your results are consistent with those from Question 1.14?"
   ]
  },
  {
   "cell_type": "code",
   "execution_count": 224,
   "metadata": {
    "collapsed": false
   },
   "outputs": [
    {
     "name": "stdout",
     "output_type": "stream",
     "text": [
      "Optimal value of C: [ 0.004]\n",
      "Accuracy score on validation data: 0.690026954178\n"
     ]
    }
   ],
   "source": [
    "# Your code goes here\n",
    "# name of our logspace before, ls\n",
    "lrcv =  LogisticRegressionCV(Cs=ls,cv=3,solver='lbfgs',refit=True)\n",
    "print ('Optimal value of C:',lrcv.fit(trfX_tr,y_tr).C_)\n",
    "print ('Accuracy score on validation data:',lrcv.score(trfX_val,y_val)) # evaluate our accuracy score"
   ]
  },
  {
   "cell_type": "markdown",
   "metadata": {},
   "source": [
    "### ========== Question 1.16 ==========\n",
    "Now, we want to validate the importance of various features for classification. For this purpose, we will use a [`RandomForestClassifier`](http://scikit-learn.org/0.17/modules/generated/sklearn.ensemble.RandomForestClassifier.html) (you might want to refer to Lab_3 if you are unsure how we can estimate feature importances with decision tree and random forest models).\n",
    "\n",
    "Initialise a random forest classifier and fit the model by using training data only and 500 trees (i.e. `n_estimators`). Set the `RandomState` equal to 31 to ensure reproducible results. Report the accuracy score on both the training and validation sets."
   ]
  },
  {
   "cell_type": "code",
   "execution_count": 228,
   "metadata": {
    "collapsed": false
   },
   "outputs": [
    {
     "name": "stdout",
     "output_type": "stream",
     "text": [
      "Accuracy score on training data: 1.0\n",
      "Accuracy score on training data: 0.698113207547\n"
     ]
    }
   ],
   "source": [
    "# Your code goes here\n",
    "rf = RandomForestClassifier(n_estimators=500, criterion='entropy',random_state=31)\n",
    "rf.fit(trfX_tr, y_tr) # use the transformed input features\n",
    "print ('Accuracy score on training data:', rf.score(trfX_tr,y_tr))\n",
    "print ('Accuracy score on training data:', rf.score(trfX_val,y_val))"
   ]
  },
  {
   "cell_type": "markdown",
   "metadata": {},
   "source": [
    "### ========== Question 1.17 ==========\n",
    "Comment on the results above. Do you find the discrepancy between training and validation accuracies surprising?"
   ]
  },
  {
   "cell_type": "markdown",
   "metadata": {},
   "source": [
    "*Your answer goes here*\n",
    "The model fits the training data perfectly, because Decision Trees will keep splitting until all of its branches 'pure' (do not need more splitting to decide which class an instance falls into).\n",
    "\n",
    "So the discrepancy between training and validiation accuracies is not surprising, because Decision Trees (or in this case Random Forest) tends to overfit the training data.\n"
   ]
  },
  {
   "cell_type": "markdown",
   "metadata": {},
   "source": [
    "### ========== Question 1.18 ==========\n",
    "By using the random forest model from the previous question order the features by descending importance and display the names of the 50 most important features."
   ]
  },
  {
   "cell_type": "code",
   "execution_count": 230,
   "metadata": {
    "collapsed": false
   },
   "outputs": [
    {
     "name": "stdout",
     "output_type": "stream",
     "text": [
      "Importance of feature dim1:, 0.002\n",
      "Importance of feature dim2:, 0.001\n",
      "Importance of feature dim3:, 0.002\n",
      "Importance of feature dim4:, 0.005\n",
      "Importance of feature dim5:, 0.002\n",
      "Importance of feature dim6:, 0.002\n",
      "Importance of feature dim7:, 0.002\n",
      "Importance of feature dim8:, 0.002\n",
      "Importance of feature dim9:, 0.002\n",
      "Importance of feature dim10:, 0.002\n",
      "Importance of feature dim11:, 0.002\n",
      "Importance of feature dim12:, 0.002\n",
      "Importance of feature dim13:, 0.001\n",
      "Importance of feature dim14:, 0.002\n",
      "Importance of feature dim15:, 0.003\n",
      "Importance of feature dim16:, 0.001\n",
      "Importance of feature dim17:, 0.003\n",
      "Importance of feature dim18:, 0.002\n",
      "Importance of feature dim19:, 0.002\n",
      "Importance of feature dim20:, 0.002\n",
      "Importance of feature dim21:, 0.007\n",
      "Importance of feature dim22:, 0.002\n",
      "Importance of feature dim23:, 0.001\n",
      "Importance of feature dim24:, 0.002\n",
      "Importance of feature dim25:, 0.004\n",
      "Importance of feature dim26:, 0.001\n",
      "Importance of feature dim27:, 0.002\n",
      "Importance of feature dim28:, 0.002\n",
      "Importance of feature dim29:, 0.002\n",
      "Importance of feature dim30:, 0.002\n",
      "Importance of feature dim31:, 0.002\n",
      "Importance of feature dim32:, 0.002\n",
      "Importance of feature dim33:, 0.002\n",
      "Importance of feature dim34:, 0.002\n",
      "Importance of feature dim35:, 0.003\n",
      "Importance of feature dim36:, 0.002\n",
      "Importance of feature dim37:, 0.002\n",
      "Importance of feature dim38:, 0.002\n",
      "Importance of feature dim39:, 0.002\n",
      "Importance of feature dim40:, 0.002\n",
      "Importance of feature dim41:, 0.002\n",
      "Importance of feature dim42:, 0.002\n",
      "Importance of feature dim43:, 0.002\n",
      "Importance of feature dim44:, 0.002\n",
      "Importance of feature dim45:, 0.002\n",
      "Importance of feature dim46:, 0.002\n",
      "Importance of feature dim47:, 0.002\n",
      "Importance of feature dim48:, 0.003\n",
      "Importance of feature dim49:, 0.002\n",
      "Importance of feature dim50:, 0.002\n",
      "Importance of feature dim51:, 0.006\n",
      "Importance of feature dim52:, 0.002\n",
      "Importance of feature dim53:, 0.002\n",
      "Importance of feature dim54:, 0.003\n",
      "Importance of feature dim55:, 0.002\n",
      "Importance of feature dim56:, 0.002\n",
      "Importance of feature dim57:, 0.002\n",
      "Importance of feature dim58:, 0.002\n",
      "Importance of feature dim59:, 0.002\n",
      "Importance of feature dim60:, 0.001\n",
      "Importance of feature dim61:, 0.002\n",
      "Importance of feature dim62:, 0.002\n",
      "Importance of feature dim63:, 0.000\n",
      "Importance of feature dim64:, 0.002\n",
      "Importance of feature dim65:, 0.002\n",
      "Importance of feature dim66:, 0.001\n",
      "Importance of feature dim67:, 0.002\n",
      "Importance of feature dim68:, 0.002\n",
      "Importance of feature dim69:, 0.001\n",
      "Importance of feature dim70:, 0.001\n",
      "Importance of feature dim71:, 0.002\n",
      "Importance of feature dim72:, 0.000\n",
      "Importance of feature dim73:, 0.004\n",
      "Importance of feature dim74:, 0.004\n",
      "Importance of feature dim75:, 0.002\n",
      "Importance of feature dim76:, 0.005\n",
      "Importance of feature dim77:, 0.003\n",
      "Importance of feature dim78:, 0.002\n",
      "Importance of feature dim79:, 0.002\n",
      "Importance of feature dim80:, 0.002\n",
      "Importance of feature dim81:, 0.002\n",
      "Importance of feature dim82:, 0.002\n",
      "Importance of feature dim83:, 0.002\n",
      "Importance of feature dim84:, 0.002\n",
      "Importance of feature dim85:, 0.003\n",
      "Importance of feature dim86:, 0.002\n",
      "Importance of feature dim87:, 0.002\n",
      "Importance of feature dim88:, 0.002\n",
      "Importance of feature dim89:, 0.002\n",
      "Importance of feature dim90:, 0.003\n",
      "Importance of feature dim91:, 0.000\n",
      "Importance of feature dim92:, 0.004\n",
      "Importance of feature dim93:, 0.001\n",
      "Importance of feature dim94:, 0.002\n",
      "Importance of feature dim95:, 0.002\n",
      "Importance of feature dim96:, 0.003\n",
      "Importance of feature dim97:, 0.001\n",
      "Importance of feature dim98:, 0.002\n",
      "Importance of feature dim99:, 0.002\n",
      "Importance of feature dim100:, 0.002\n",
      "Importance of feature dim101:, 0.002\n",
      "Importance of feature dim102:, 0.002\n",
      "Importance of feature dim103:, 0.002\n",
      "Importance of feature dim104:, 0.001\n",
      "Importance of feature dim105:, 0.002\n",
      "Importance of feature dim106:, 0.002\n",
      "Importance of feature dim107:, 0.001\n",
      "Importance of feature dim108:, 0.002\n",
      "Importance of feature dim109:, 0.002\n",
      "Importance of feature dim110:, 0.001\n",
      "Importance of feature dim111:, 0.002\n",
      "Importance of feature dim112:, 0.002\n",
      "Importance of feature dim113:, 0.002\n",
      "Importance of feature dim114:, 0.003\n",
      "Importance of feature dim115:, 0.002\n",
      "Importance of feature dim116:, 0.002\n",
      "Importance of feature dim117:, 0.002\n",
      "Importance of feature dim118:, 0.002\n",
      "Importance of feature dim119:, 0.002\n",
      "Importance of feature dim120:, 0.002\n",
      "Importance of feature dim121:, 0.002\n",
      "Importance of feature dim122:, 0.002\n",
      "Importance of feature dim123:, 0.002\n",
      "Importance of feature dim124:, 0.002\n",
      "Importance of feature dim125:, 0.001\n",
      "Importance of feature dim126:, 0.002\n",
      "Importance of feature dim127:, 0.002\n",
      "Importance of feature dim128:, 0.002\n",
      "Importance of feature dim129:, 0.002\n",
      "Importance of feature dim130:, 0.001\n",
      "Importance of feature dim131:, 0.002\n",
      "Importance of feature dim132:, 0.002\n",
      "Importance of feature dim133:, 0.002\n",
      "Importance of feature dim134:, 0.003\n",
      "Importance of feature dim135:, 0.002\n",
      "Importance of feature dim136:, 0.002\n",
      "Importance of feature dim137:, 0.002\n",
      "Importance of feature dim138:, 0.002\n",
      "Importance of feature dim139:, 0.002\n",
      "Importance of feature dim140:, 0.000\n",
      "Importance of feature dim141:, 0.001\n",
      "Importance of feature dim142:, 0.002\n",
      "Importance of feature dim143:, 0.001\n",
      "Importance of feature dim144:, 0.002\n",
      "Importance of feature dim145:, 0.002\n",
      "Importance of feature dim146:, 0.002\n",
      "Importance of feature dim147:, 0.002\n",
      "Importance of feature dim148:, 0.001\n",
      "Importance of feature dim149:, 0.001\n",
      "Importance of feature dim150:, 0.002\n",
      "Importance of feature dim151:, 0.001\n",
      "Importance of feature dim152:, 0.002\n",
      "Importance of feature dim153:, 0.003\n",
      "Importance of feature dim154:, 0.003\n",
      "Importance of feature dim155:, 0.002\n",
      "Importance of feature dim156:, 0.001\n",
      "Importance of feature dim157:, 0.002\n",
      "Importance of feature dim158:, 0.002\n",
      "Importance of feature dim159:, 0.002\n",
      "Importance of feature dim160:, 0.003\n",
      "Importance of feature dim161:, 0.003\n",
      "Importance of feature dim162:, 0.002\n",
      "Importance of feature dim163:, 0.002\n",
      "Importance of feature dim164:, 0.002\n",
      "Importance of feature dim165:, 0.002\n",
      "Importance of feature dim166:, 0.002\n",
      "Importance of feature dim167:, 0.002\n",
      "Importance of feature dim168:, 0.002\n",
      "Importance of feature dim169:, 0.002\n",
      "Importance of feature dim170:, 0.002\n",
      "Importance of feature dim171:, 0.003\n",
      "Importance of feature dim172:, 0.002\n",
      "Importance of feature dim173:, 0.002\n",
      "Importance of feature dim174:, 0.002\n",
      "Importance of feature dim175:, 0.002\n",
      "Importance of feature dim176:, 0.001\n",
      "Importance of feature dim177:, 0.002\n",
      "Importance of feature dim178:, 0.002\n",
      "Importance of feature dim179:, 0.002\n",
      "Importance of feature dim180:, 0.001\n",
      "Importance of feature dim181:, 0.002\n",
      "Importance of feature dim182:, 0.002\n",
      "Importance of feature dim183:, 0.002\n",
      "Importance of feature dim184:, 0.002\n",
      "Importance of feature dim185:, 0.002\n",
      "Importance of feature dim186:, 0.002\n",
      "Importance of feature dim187:, 0.002\n",
      "Importance of feature dim188:, 0.003\n",
      "Importance of feature dim189:, 0.002\n",
      "Importance of feature dim190:, 0.002\n",
      "Importance of feature dim191:, 0.002\n",
      "Importance of feature dim192:, 0.002\n",
      "Importance of feature dim193:, 0.001\n",
      "Importance of feature dim194:, 0.001\n",
      "Importance of feature dim195:, 0.002\n",
      "Importance of feature dim196:, 0.001\n",
      "Importance of feature dim197:, 0.003\n",
      "Importance of feature dim198:, 0.002\n",
      "Importance of feature dim199:, 0.002\n",
      "Importance of feature dim200:, 0.002\n",
      "Importance of feature dim201:, 0.003\n",
      "Importance of feature dim202:, 0.001\n",
      "Importance of feature dim203:, 0.002\n",
      "Importance of feature dim204:, 0.002\n",
      "Importance of feature dim205:, 0.002\n",
      "Importance of feature dim206:, 0.003\n",
      "Importance of feature dim207:, 0.003\n",
      "Importance of feature dim208:, 0.002\n",
      "Importance of feature dim209:, 0.002\n",
      "Importance of feature dim210:, 0.002\n",
      "Importance of feature dim211:, 0.002\n",
      "Importance of feature dim212:, 0.002\n",
      "Importance of feature dim213:, 0.002\n",
      "Importance of feature dim214:, 0.004\n",
      "Importance of feature dim215:, 0.001\n",
      "Importance of feature dim216:, 0.002\n",
      "Importance of feature dim217:, 0.004\n",
      "Importance of feature dim218:, 0.002\n",
      "Importance of feature dim219:, 0.002\n",
      "Importance of feature dim220:, 0.002\n",
      "Importance of feature dim221:, 0.002\n",
      "Importance of feature dim222:, 0.004\n",
      "Importance of feature dim223:, 0.001\n",
      "Importance of feature dim224:, 0.002\n",
      "Importance of feature dim225:, 0.002\n",
      "Importance of feature dim226:, 0.002\n",
      "Importance of feature dim227:, 0.002\n",
      "Importance of feature dim228:, 0.002\n",
      "Importance of feature dim229:, 0.002\n",
      "Importance of feature dim230:, 0.002\n",
      "Importance of feature dim231:, 0.002\n",
      "Importance of feature dim232:, 0.002\n",
      "Importance of feature dim233:, 0.002\n",
      "Importance of feature dim234:, 0.002\n",
      "Importance of feature dim235:, 0.002\n",
      "Importance of feature dim236:, 0.002\n",
      "Importance of feature dim237:, 0.002\n",
      "Importance of feature dim238:, 0.002\n",
      "Importance of feature dim239:, 0.002\n",
      "Importance of feature dim240:, 0.001\n",
      "Importance of feature dim241:, 0.002\n",
      "Importance of feature dim242:, 0.002\n",
      "Importance of feature dim243:, 0.002\n",
      "Importance of feature dim244:, 0.002\n",
      "Importance of feature dim245:, 0.002\n",
      "Importance of feature dim246:, 0.002\n",
      "Importance of feature dim247:, 0.002\n",
      "Importance of feature dim248:, 0.002\n",
      "Importance of feature dim249:, 0.002\n",
      "Importance of feature dim250:, 0.002\n",
      "Importance of feature dim251:, 0.002\n",
      "Importance of feature dim252:, 0.002\n",
      "Importance of feature dim253:, 0.001\n",
      "Importance of feature dim254:, 0.004\n",
      "Importance of feature dim255:, 0.002\n",
      "Importance of feature dim256:, 0.002\n"
     ]
    },
    {
     "ename": "KeyboardInterrupt",
     "evalue": "",
     "output_type": "error",
     "traceback": [
      "\u001b[0;31m---------------------------------------------------------------------------\u001b[0m",
      "\u001b[0;31mKeyboardInterrupt\u001b[0m                         Traceback (most recent call last)",
      "\u001b[0;32m<ipython-input-230-ef6b4542862c>\u001b[0m in \u001b[0;36m<module>\u001b[0;34m()\u001b[0m\n\u001b[1;32m      1\u001b[0m \u001b[0;31m# Your code goes here\u001b[0m\u001b[0;34m\u001b[0m\u001b[0;34m\u001b[0m\u001b[0m\n\u001b[1;32m      2\u001b[0m \u001b[0;32mfor\u001b[0m \u001b[0mi\u001b[0m\u001b[0;34m,\u001b[0m \u001b[0mcolumn\u001b[0m \u001b[0;32min\u001b[0m \u001b[0menumerate\u001b[0m\u001b[0;34m(\u001b[0m\u001b[0mX_tr\u001b[0m\u001b[0;34m)\u001b[0m\u001b[0;34m:\u001b[0m\u001b[0;34m\u001b[0m\u001b[0m\n\u001b[0;32m----> 3\u001b[0;31m     \u001b[0;32mprint\u001b[0m\u001b[0;34m(\u001b[0m\u001b[0;34m'Importance of feature {}:, {:.3f}'\u001b[0m\u001b[0;34m.\u001b[0m\u001b[0mformat\u001b[0m\u001b[0;34m(\u001b[0m\u001b[0mcolumn\u001b[0m\u001b[0;34m,\u001b[0m \u001b[0mrf\u001b[0m\u001b[0;34m.\u001b[0m\u001b[0mfeature_importances_\u001b[0m\u001b[0;34m[\u001b[0m\u001b[0mi\u001b[0m\u001b[0;34m]\u001b[0m\u001b[0;34m)\u001b[0m\u001b[0;34m)\u001b[0m\u001b[0;34m\u001b[0m\u001b[0m\n\u001b[0m",
      "\u001b[0;32m/Applications/anaconda/envs/iaml/lib/python2.7/site-packages/sklearn/ensemble/forest.pyc\u001b[0m in \u001b[0;36mfeature_importances_\u001b[0;34m(self)\u001b[0m\n\u001b[1;32m    371\u001b[0m                                    \u001b[0mbackend\u001b[0m\u001b[0;34m=\u001b[0m\u001b[0;34m\"threading\"\u001b[0m\u001b[0;34m)\u001b[0m\u001b[0;34m(\u001b[0m\u001b[0;34m\u001b[0m\u001b[0m\n\u001b[1;32m    372\u001b[0m             \u001b[0mdelayed\u001b[0m\u001b[0;34m(\u001b[0m\u001b[0mgetattr\u001b[0m\u001b[0;34m)\u001b[0m\u001b[0;34m(\u001b[0m\u001b[0mtree\u001b[0m\u001b[0;34m,\u001b[0m \u001b[0;34m'feature_importances_'\u001b[0m\u001b[0;34m)\u001b[0m\u001b[0;34m\u001b[0m\u001b[0m\n\u001b[0;32m--> 373\u001b[0;31m             for tree in self.estimators_)\n\u001b[0m\u001b[1;32m    374\u001b[0m \u001b[0;34m\u001b[0m\u001b[0m\n\u001b[1;32m    375\u001b[0m         \u001b[0;32mreturn\u001b[0m \u001b[0msum\u001b[0m\u001b[0;34m(\u001b[0m\u001b[0mall_importances\u001b[0m\u001b[0;34m)\u001b[0m \u001b[0;34m/\u001b[0m \u001b[0mlen\u001b[0m\u001b[0;34m(\u001b[0m\u001b[0mself\u001b[0m\u001b[0;34m.\u001b[0m\u001b[0mestimators_\u001b[0m\u001b[0;34m)\u001b[0m\u001b[0;34m\u001b[0m\u001b[0m\n",
      "\u001b[0;32m/Applications/anaconda/envs/iaml/lib/python2.7/site-packages/sklearn/externals/joblib/parallel.pyc\u001b[0m in \u001b[0;36m__call__\u001b[0;34m(self, iterable)\u001b[0m\n\u001b[1;32m    766\u001b[0m                 \u001b[0;31m# consumption.\u001b[0m\u001b[0;34m\u001b[0m\u001b[0;34m\u001b[0m\u001b[0m\n\u001b[1;32m    767\u001b[0m                 \u001b[0mself\u001b[0m\u001b[0;34m.\u001b[0m\u001b[0m_iterating\u001b[0m \u001b[0;34m=\u001b[0m \u001b[0mFalse\u001b[0m\u001b[0;34m\u001b[0m\u001b[0m\n\u001b[0;32m--> 768\u001b[0;31m             \u001b[0mself\u001b[0m\u001b[0;34m.\u001b[0m\u001b[0mretrieve\u001b[0m\u001b[0;34m(\u001b[0m\u001b[0;34m)\u001b[0m\u001b[0;34m\u001b[0m\u001b[0m\n\u001b[0m\u001b[1;32m    769\u001b[0m             \u001b[0;31m# Make sure that we get a last message telling us we are done\u001b[0m\u001b[0;34m\u001b[0m\u001b[0;34m\u001b[0m\u001b[0m\n\u001b[1;32m    770\u001b[0m             \u001b[0melapsed_time\u001b[0m \u001b[0;34m=\u001b[0m \u001b[0mtime\u001b[0m\u001b[0;34m.\u001b[0m\u001b[0mtime\u001b[0m\u001b[0;34m(\u001b[0m\u001b[0;34m)\u001b[0m \u001b[0;34m-\u001b[0m \u001b[0mself\u001b[0m\u001b[0;34m.\u001b[0m\u001b[0m_start_time\u001b[0m\u001b[0;34m\u001b[0m\u001b[0m\n",
      "\u001b[0;32m/Applications/anaconda/envs/iaml/lib/python2.7/site-packages/sklearn/externals/joblib/parallel.pyc\u001b[0m in \u001b[0;36mretrieve\u001b[0;34m(self)\u001b[0m\n\u001b[1;32m    717\u001b[0m                     \u001b[0mensure_ready\u001b[0m \u001b[0;34m=\u001b[0m \u001b[0mself\u001b[0m\u001b[0;34m.\u001b[0m\u001b[0m_managed_backend\u001b[0m\u001b[0;34m\u001b[0m\u001b[0m\n\u001b[1;32m    718\u001b[0m                     \u001b[0mbackend\u001b[0m\u001b[0;34m.\u001b[0m\u001b[0mabort_everything\u001b[0m\u001b[0;34m(\u001b[0m\u001b[0mensure_ready\u001b[0m\u001b[0;34m=\u001b[0m\u001b[0mensure_ready\u001b[0m\u001b[0;34m)\u001b[0m\u001b[0;34m\u001b[0m\u001b[0m\n\u001b[0;32m--> 719\u001b[0;31m                 \u001b[0;32mraise\u001b[0m \u001b[0mexception\u001b[0m\u001b[0;34m\u001b[0m\u001b[0m\n\u001b[0m\u001b[1;32m    720\u001b[0m \u001b[0;34m\u001b[0m\u001b[0m\n\u001b[1;32m    721\u001b[0m     \u001b[0;32mdef\u001b[0m \u001b[0m__call__\u001b[0m\u001b[0;34m(\u001b[0m\u001b[0mself\u001b[0m\u001b[0;34m,\u001b[0m \u001b[0miterable\u001b[0m\u001b[0;34m)\u001b[0m\u001b[0;34m:\u001b[0m\u001b[0;34m\u001b[0m\u001b[0m\n",
      "\u001b[0;31mKeyboardInterrupt\u001b[0m: "
     ]
    }
   ],
   "source": [
    "# Your code goes here\n",
    "for i, column in enumerate(X_tr):\n",
    "    #print('Importance of feature {}:, {:.3f}'.format(column, rf.feature_importances_[i]))"
   ]
  },
  {
   "cell_type": "markdown",
   "metadata": {},
   "source": [
    "### ========== Question 1.19 ==========\n",
    "Next, we would like to test out the performance of support vector classification and experiment with different kernels. \n",
    "By using training data only and default parameter settings, train three support vector classifiers with the following kernels: linear, radial basis function, and polynomial. Report the classification accuracy of each of the three classifiers on both the training and validation sets."
   ]
  },
  {
   "cell_type": "code",
   "execution_count": 54,
   "metadata": {
    "collapsed": false
   },
   "outputs": [],
   "source": [
    "# Your code goes here\n"
   ]
  },
  {
   "cell_type": "markdown",
   "metadata": {},
   "source": [
    "### ========== Question 1.20 ==========\n",
    "At this point, we would like to get an idea of what kind of decision boundaries we can get with the three types of SVM kernels we introduced in the previous question. For visualisation, however, we can only make use of 2D input data. For this purpose, we select to use the 21st and 76th columns of our training features (*hint: remember that Python uses 0-based indexing*). \n",
    "\n",
    "Execute the cell below to define a useful function which we will be using to plot the decision boundaries *(it is also not a bad idea to try to understand what this functions does)*. \n",
    "\n",
    "Then train three distinct SVM classifiers by using the 2D input data mentioned above and default parameters:\n",
    "* a linear SVC\n",
    "* an RBF SVC \n",
    "* a polynomial SVC\n",
    "\n",
    "Finally, create a list containing the three classifiers you have just trained. Use this list as an input to the provided function along with the used training features and observe the outcome. You can use the additional `title` parameter to set the titles in the subplots. Comment on the results by using 1-2 sentences.\n",
    "\n",
    "*(Acknowledgement: this Question has been heavily based on [this example](http://scikit-learn.org/0.17/auto_examples/svm/plot_iris.html) from scikit-learn's documentation.)*"
   ]
  },
  {
   "cell_type": "code",
   "execution_count": null,
   "metadata": {
    "collapsed": true
   },
   "outputs": [],
   "source": [
    "def show_svc_decision_boundaries(clfs, X, title=None):\n",
    "    \"\"\"Plots decision boundaries for classifiers with 2D inputs.\n",
    "    \n",
    "    Parameters\n",
    "    ----------\n",
    "    clf : list\n",
    "        Classifiers for which decision boundaries will be displayed.\n",
    "    X : array\n",
    "        Input features used to train the classifiers.\n",
    "    title : list, optional\n",
    "        Titles for classifiers.\n",
    "    \n",
    "    \"\"\"\n",
    "    \n",
    "    assert X.shape[1] == 2 # Input should be 2D\n",
    "    if title is not None:\n",
    "        assert len(clfs) == len(title)\n",
    "    \n",
    "    h = .04 # step size in the mesh\n",
    "    x_min, x_max = X[:, 0].min() - 1, X[:, 0].max() + 1\n",
    "    y_min, y_max = X[:, 1].min() - 1, X[:, 1].max() + 1\n",
    "    xx, yy = np.meshgrid(np.arange(x_min, x_max, h),\n",
    "                         np.arange(y_min, y_max, h))\n",
    "    plt.figure(figsize=(15,5))\n",
    "    for i, clf in enumerate(clfs):\n",
    "        plt.subplot(1, len(clfs), i + 1)\n",
    "        plt.subplots_adjust(wspace=0.4, hspace=0.4)\n",
    "        Z = clf.predict(np.c_[xx.ravel(), yy.ravel()])\n",
    "        Z = Z.reshape(xx.shape)\n",
    "        plt.contourf(xx, yy, Z, cmap=plt.cm.Paired, alpha=0.8)\n",
    "        # Training points\n",
    "        plt.scatter(X[:, 0], X[:, 1], c=y_tr, cmap=plt.cm.Paired)\n",
    "        plt.xlabel('Feature 1')\n",
    "        plt.ylabel('Feature 2')\n",
    "        plt.xlim(xx.min(), xx.max())\n",
    "        plt.ylim(yy.min(), yy.max())\n",
    "        plt.xticks(())\n",
    "        plt.yticks(())\n",
    "        if title is not None:\n",
    "            plt.title(title[i])"
   ]
  },
  {
   "cell_type": "code",
   "execution_count": 48,
   "metadata": {
    "collapsed": false
   },
   "outputs": [],
   "source": [
    "# Your code goes here\n"
   ]
  },
  {
   "cell_type": "markdown",
   "metadata": {},
   "source": [
    "*Your answer goes here*\n",
    "\n"
   ]
  },
  {
   "cell_type": "markdown",
   "metadata": {},
   "source": [
    "### ========== Question 1.21 ==========\n",
    "So far we have used default parameters for training the SVM classifiers. Now we want to tune the parameters by using cross-validation. \n",
    "\n",
    "By using the `K-fold` iterator from Question 1.11 and training data only, estimate the classification accuracy of an SVM classifier with RBF kernel, while you vary the penalty parameter `C` in a logarithmic range `np.logspace(-2, 3, 10)`. Set the kernel coefficient parameter `gamma` to `auto` for this question. \n",
    "\n",
    "Plot the mean cross-validated classification accuracy against the regularisation parameter `C` by using a log-scale for the x-axis. Display the highest obtained mean accuracy score and the value of `C` which yielded it. Label axes appropriately. \n",
    "\n",
    "Finally, train a classifier by using the optimal value for this parameter (without using cross-validation at this stage) and report the classification accuracy on the training and validation sets. "
   ]
  },
  {
   "cell_type": "code",
   "execution_count": 50,
   "metadata": {
    "collapsed": false
   },
   "outputs": [],
   "source": [
    "# Your code goes here\n"
   ]
  },
  {
   "cell_type": "markdown",
   "metadata": {},
   "source": [
    "### ========== Question 1.22 ==========\n",
    "Now we turn to the kernel coefficient `gamma` parameter. By using the same procedure as in the previous question, estimate the classification accuracy of an SVM classifier with RBF kernel while you vary the `gamma` parameter in a logarithmic range `logspace(-5, 0, 10)`. Fix the penalty parameter `C=1.0`.\n",
    "\n",
    "Plot the mean cross-validated classification accuracy against the parameter `gamma` by using a log-scale for the x-axis. Display the highest obtained mean accuracy score and the value of `gamma` which yielded it.  Label axes appropriately.\n",
    "\n",
    "Finally, train a classifier by using the optimal value for this parameter (without using cross-validation at this stage) and report the classification accuracy on the training and validation sets. "
   ]
  },
  {
   "cell_type": "code",
   "execution_count": 49,
   "metadata": {
    "collapsed": false
   },
   "outputs": [],
   "source": [
    "# Your code goes here\n"
   ]
  },
  {
   "cell_type": "markdown",
   "metadata": {},
   "source": [
    "### ========== Question 1.23 ==========\n",
    "Now we wish to tune both the `C` and `gamma` parameters simultaneously. To save computational time, we will now constrain the parameter search space. Define a `4 X 4` grid for the two parameters, as follows:\n",
    "* `C`: `np.logspace(-2, 1, 4)`\n",
    "* `gamma`: `np.logspace(-4, -1, 4)`\n",
    "\n",
    "Estimate the mean cross-validated classification accuracy by using training data only and all possible configurations for the two parameters. \n",
    "\n",
    "Use a [heatmap](https://seaborn.github.io/generated/seaborn.heatmap.html?highlight=heatmap#seaborn.heatmap) to visualise the mean cross-validated classification accuracy for all `C`-`gamma` pairs. Label axes appropriately and display the values for `C` and `gamma` for the best performing configuration. \n",
    "\n",
    "Finally, by using the optimal configuration, train a classifier (without using cross-validation) and report the classification accuracy on the training and validation sets."
   ]
  },
  {
   "cell_type": "code",
   "execution_count": null,
   "metadata": {
    "collapsed": false
   },
   "outputs": [],
   "source": [
    "# Your code goes here \n"
   ]
  },
  {
   "cell_type": "markdown",
   "metadata": {},
   "source": [
    "### ========== Question 1.24 ==========\n",
    "Is the classification accuracy on the validation set higher than in previous questions (1.22-1.23)? If not, can you explain why? Can you think of a way of further improving the performance of the classifier? You don't need to implement your suggestion at this stage. Would there be any associated problems with your suggested approach? "
   ]
  },
  {
   "cell_type": "markdown",
   "metadata": {},
   "source": [
    "*Your answer goes here*\n",
    "\n"
   ]
  },
  {
   "cell_type": "markdown",
   "metadata": {},
   "source": [
    "### ========== Question 1.25 ==========\n",
    "Now we want to evaluate the performance of an SVM classifier with polynomial kernel. Once again, we will tune the `degree` parameter by using cross-validation (similarly to what we did in Questions 1.21 and 1.22).\n",
    "\n",
    "By using the `K-fold` iterator from Question 1.11 and training data only, estimate the classification accuracy of polynomial SVM classifier, while you vary the `degree` parameter in the range `np.arange(1,8)`. \n",
    "\n",
    "Plot the mean cross-validated classification accuracy against the polynomial degree. Display the highest obtained mean accuracy score and the value of the `degree` parameter which yielded it. Label axes appropriately. \n",
    "\n",
    "Finally, train a classifier by using the optimal value for this parameter (without using cross-validation at this stage) and report the classification accuracy on the training and validation sets. "
   ]
  },
  {
   "cell_type": "code",
   "execution_count": null,
   "metadata": {
    "collapsed": false
   },
   "outputs": [],
   "source": [
    "# Your code goes here\n"
   ]
  },
  {
   "cell_type": "markdown",
   "metadata": {},
   "source": [
    "### ========== Question 1.26 ==========\n",
    "\n",
    "You might have noticted that so far, we have used cross-validation for optimising the various tuning parameters (e.g. regularisation parameter in logistic regression, SVM kernel parameters) rather than hold-out validation, although we did have access to a validation set. Why do you think this is a good/bad idea? Give one advantage and one disadvantage of the two different approaches. Which one would you trust more in practice?"
   ]
  },
  {
   "cell_type": "markdown",
   "metadata": {},
   "source": [
    "*Your answer goes here*\n",
    "\n"
   ]
  },
  {
   "cell_type": "markdown",
   "metadata": {},
   "source": [
    "### ========== Question 1.27 ==========\n",
    "\n",
    "Reload the full training and validation data that contain all indicator variables for all object categories. Remove the `imgId` attribute but keep all of the class indicator variables in the dataset this time. Your training features should include all attributes except `is_person` which should be your target variable. \n",
    "\n",
    "Once again, use a [StandardScaler](http://scikit-learn.org/0.17/modules/generated/sklearn.preprocessing.StandardScaler.html) to standardise your training and validation features. Then train a Random Forest Classifier by using the entropy `criterion`, 500 `n_estimators`, and also set the `random_state` to 31. Report the classification accuracy on the training and validation sets.\n",
    "\n",
    "Similarly to what we did in Question 1.18, order the features by decreasing importance and display the 50 most important features. \n",
    "\n",
    "Finally, answer the following questions:\n",
    "* What do you notice by looking at the list of the best 50 features?\n",
    "* How does the performance differ with respect to the case when the additional class indicator variables are not present (Question 1.16)? Relate your observations to the observed feature ranking.\n",
    "* Would it be easy to make use of the results in practice? Briey explain your reasoning.\n",
    "\n",
    "*(Hint: you might want to look at some of the [images](http://www.inf.ed.ac.uk/teaching/courses/iaml/2014/assts/asst3/images.html) to justify your explanations.)*"
   ]
  },
  {
   "cell_type": "code",
   "execution_count": 51,
   "metadata": {
    "collapsed": false
   },
   "outputs": [],
   "source": [
    "# Your code goes here\n"
   ]
  },
  {
   "cell_type": "markdown",
   "metadata": {},
   "source": [
    "*Your answer goes here*\n",
    "\n"
   ]
  },
  {
   "cell_type": "markdown",
   "metadata": {},
   "source": [
    "## Mini challenge [30%]"
   ]
  },
  {
   "cell_type": "markdown",
   "metadata": {},
   "source": [
    "*Important: You are allowed to write up to a maximum of 600 words in this part of the assignment. The thoroughness of the exploration and the quality of the resulting discussion is just as important as the final classification performance of your chosen method(s) and credit will be divided accordingly.*"
   ]
  },
  {
   "cell_type": "markdown",
   "metadata": {},
   "source": [
    "In this final part of the assignment we will have a mini object-recognition challenge. Using the data provided you are asked to find the best classiffier for the person/no person classification task. You can apply any preprocessing steps to the data that you think fit and employ any classiffier you like (with the provison that you can explain what the classiffier/preprocessing steps are doing). You can also employ any lessons learnt during the course, either from previous Assignments, the Labs or the lecture material to try and squeeze out as much performance as you possibly can. The only restriction is that all steps must be performed in `Python` by using the `numpy`, `pandas` and `sklearn` packages. You can also make use of `matplotlib` and `seaborn` for visualisation. "
   ]
  },
  {
   "cell_type": "markdown",
   "metadata": {},
   "source": [
    "**Important:** The classification performance metric that we will use for this part is the *cross-entropy* or *logarithmic loss* (see Lab 4). You should familiarise yourself with the metric by reading the `sklearn` [user guide](http://scikit-learn.org/0.17/modules/model_evaluation.html#log-loss) and [documentation](http://scikit-learn.org/0.17/modules/generated/sklearn.metrics.log_loss.html#sklearn.metrics.log_loss). To estimate this metric you will need to evaluate probability outputs, as opposed to discrete predictions which we have used so far to compute classification accuracies. Most models in `sklearn` implement a `predict_proba()` method which returns the posterior probabilities for each class. For instance, if your test set consists of `N` datapoints and there are `K` classes, the method will return a `N` x `K` matrix."
   ]
  },
  {
   "cell_type": "markdown",
   "metadata": {},
   "source": [
    "We provide you with three new data sets: a training set (`train_images_partB.csv`), a validation set (`valid_images_partB.csv`), and a test set (`test_images_partB.csv`). You must use the former two for training and evaluating your models (as you see fit). Once you have chosen your favourite model (and pre-processing steps) you should apply it to the test set (for which no labels are provided). Estimate the posterior proabilities for the data points in the test set and submit your results as part of your answer. Your results will be evaluated in terms of the logarithmic loss metric. You also need to submit a brief description of the approaches you considered, your suggested final approach, and a short explanation of why you chose it. The thoroughness of the exploration and the quality of the resulting discussion is just as important as the final score of your chosen method(s) and credit will be divided accordingly.\n",
    "\n",
    "*Hint: Feature engineering, feature combination, model combination and model parameter optimization can significantly improve performance.*"
   ]
  },
  {
   "cell_type": "markdown",
   "metadata": {},
   "source": [
    "**How to submit your results**: Store the estimated posterior probabilities for the data points in the test set into a 2D numpy array. Then execute the provided cell at the end of this notebook which uses a provided `save_predictions` function to export your results into a `.txt` file (the function will return an error if the provided array has not the right shape). The `.txt` file will be saved where your notebook lives. You are then required to copy this file into your submission folder along with your notebook (see Mecanics section at the top of the notebook) and then submit the two files by using the `submit` command on DICE. You are only required to use the `submit` command once."
   ]
  },
  {
   "cell_type": "markdown",
   "metadata": {},
   "source": [
    "*Your answer goes here (max. 600 words)*\n",
    "\n"
   ]
  },
  {
   "cell_type": "code",
   "execution_count": null,
   "metadata": {
    "collapsed": true
   },
   "outputs": [],
   "source": [
    "# Your code goes here"
   ]
  },
  {
   "cell_type": "code",
   "execution_count": null,
   "metadata": {
    "collapsed": false
   },
   "outputs": [],
   "source": [
    "# Execute this cell to export your results\n",
    "from numpy import savetxt\n",
    "def save_predictions(pred_proba):\n",
    "    if pred_proba.shape != (1114,2):\n",
    "        raise ValueError('Predicted probabilities array has not the right shape.')\n",
    "    \n",
    "    savetxt('assignment_3_predictions.txt', pred_proba)\n",
    "\n",
    "save_predictions(pred_proba) # You need to replace \"pred_proba\" with the name of the array\n",
    "                             # which contains the probability estimates for the data in \n",
    "                             # the test set."
   ]
  },
  {
   "cell_type": "markdown",
   "metadata": {},
   "source": [
    "*Your answer goes here*\n",
    "\n"
   ]
  }
 ],
 "metadata": {
  "anaconda-cloud": {},
  "kernelspec": {
   "display_name": "Python [conda env:iaml]",
   "language": "python",
   "name": "conda-env-iaml-py"
  },
  "language_info": {
   "codemirror_mode": {
    "name": "ipython",
    "version": 2
   },
   "file_extension": ".py",
   "mimetype": "text/x-python",
   "name": "python",
   "nbconvert_exporter": "python",
   "pygments_lexer": "ipython2",
   "version": "2.7.12"
  }
 },
 "nbformat": 4,
 "nbformat_minor": 0
}
