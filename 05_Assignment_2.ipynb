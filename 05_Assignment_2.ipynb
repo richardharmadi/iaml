{
 "cells": [
  {
   "cell_type": "markdown",
   "metadata": {},
   "source": [
    "# Introductory applied machine learning (INFR10069)"
   ]
  },
  {
   "cell_type": "markdown",
   "metadata": {},
   "source": [
    "# Assignment 2: Linear regression"
   ]
  },
  {
   "cell_type": "markdown",
   "metadata": {},
   "source": [
    "## Marking Breakdown\n",
    "\n",
    "**70-100%** results/answer correct plus extra achievement at understanding or analysis of results. Clear explanations, evidence of creative or deeper thought will contribute to a higher grade.\n",
    "\n",
    "**60-69%** results/answer correct or nearly correct and well explained.\n",
    "\n",
    "**50-59%** results/answer in right direction but significant errors.\n",
    "\n",
    "**40-49%** some evidence that the student has gained some understanding, but not answered the questions\n",
    "properly.\n",
    "\n",
    "**0-39%** serious error or slack work."
   ]
  },
  {
   "cell_type": "markdown",
   "metadata": {},
   "source": [
    "## Mechanics\n",
    "\n",
    "You should produce a Jupyter notebook in answer to this assignment.\n",
    "**You need to submit this notebook electronically as described below.**\n",
    "\n",
    "Place your notebook in a directory called `iamlans` and submit this directory using the submit command on a DICE machine. The format is:\n",
    "\n",
    "`submit iaml 2 iamlans`\n",
    "\n",
    "You can check the status of your submissions with the `show_submissions` command.\n",
    "\n",
    "**Late submissions:** The policy stated in the School of Informatics MSc Degree Guide is that normally you will not be allowed to submit coursework late. See http://www.inf.ed.ac.uk/teaching/years/msc/courseguide10.html#exam for exceptions to this, e.g. in case of serious medical illness or serious personal problems.\n",
    "\n",
    "**Collaboration:** You may discuss the assignment with your colleagues, provided that the writing that you submit is entirely your own. That is, you should NOT borrow actual text or code from other students. We ask that you provide a list of the people who you've had discussions with (if any).\n"
   ]
  },
  {
   "cell_type": "markdown",
   "metadata": {},
   "source": [
    "## Important Instructions\n",
    "\n",
    "1. In the following questions you are asked to run experiments using Python (version 2.7) and the following packages:\n",
    "    * Numpy\n",
    "    * Pandas\n",
    "    * Scikit-learn\n",
    "    * Matplotlib\n",
    "    * Seaborn\n",
    "\n",
    "2. Before you start make sure you have set up a vitual environment (or conda environment if you are working on your own machine) and the required packages installed. Instructions on how to set-up the working enviornment and install the required packages can be found in `01_Lab_1_Introduction`.\n",
    "\n",
    "3. Wherever you are required to produce code you should use code cells, otherwise you should use markdown cells to report results and explain answers.\n",
    "\n",
    "4. The .csv files that you will be using are located at `./datasets/` (the `datasets` directory is adjacent to this file).\n",
    "\n",
    "5. **IMPORTANT:** Keep your answers brief and concise. Most questions can be answered with 2-3 lines of explanation (excluding coding questions)."
   ]
  },
  {
   "cell_type": "markdown",
   "metadata": {},
   "source": [
    "## Imports\n",
    "\n",
    "Execute the cell below to import all packages you will be using in the rest of the assignemnt."
   ]
  },
  {
   "cell_type": "code",
   "execution_count": 2,
   "metadata": {
    "collapsed": false
   },
   "outputs": [],
   "source": [
    "from __future__ import print_function, division\n",
    "import os\n",
    "import numpy as np\n",
    "import pandas as pd\n",
    "import matplotlib.pyplot as plt\n",
    "from sklearn.metrics import r2_score, explained_variance_score, mean_absolute_error, mean_squared_error\n",
    "from sklearn.cross_validation import train_test_split, KFold, cross_val_predict\n",
    "from sklearn.linear_model import LinearRegression\n",
    "from sklearn.preprocessing import OneHotEncoder, LabelEncoder\n",
    "from sklearn.tree import DecisionTreeRegressor\n",
    "from sklearn.ensemble import RandomForestRegressor\n",
    "import seaborn as sns\n",
    "%matplotlib inline"
   ]
  },
  {
   "cell_type": "markdown",
   "metadata": {},
   "source": [
    "## Description of the dataset\n",
    "This assignment is based on the automobile pricing dataset. Our goal will be to predict the price of automobiles based on various attributes. This data set consists of three types of entities: (a) the specification of an automobile in terms of various characteristics, (b) its assigned insurance risk rating, (c) its normalized losses in use as compared to other cars. The second rating corresponds to the degree to which the auto is more risky than its price indicates. Cars are initially assigned a risk factor symbol associated with its price. Then, if it is more risky (or less), this symbol is adjusted by moving it up (or down) the scale. Actuaries call this process ”symboling”. A value of +3 indicates that the auto is risky, -3 that it is probably pretty safe. The third factor is the relative average loss payment per insured vehicle year. This value is normalized for all autos within a particular size classification (two door small, station wagons, sports/speciality, etc...), and represents the average loss per car per year. To save you time and to make the problem manageable with limited computational resources, we preprocessed the original dataset. We removed any instances that had one or more missing values and randomized the data set. The resulting representation is much more compact and can be used directly to perform our experiments."
   ]
  },
  {
   "cell_type": "markdown",
   "metadata": {},
   "source": [
    "## 1. Simple Linear Regression [50%]\n",
    "We will begin by studying a simple Linear Regression model. Such a model will consider the relationship between a dependent (response) variable and only one independent (explanatory) variable. When applying machine learning in practice it can be prudent to start out simple in order to get a feeling for the dataset and for any potential difficulties that might warrant a more sophisticated model. In this Section we will consider one independent variable (i.e. feature) `engine-power` against the dependent variable (i.e. target) `price`."
   ]
  },
  {
   "cell_type": "markdown",
   "metadata": {},
   "source": [
    "### ========== Question 1.1 ==========\n",
    "Load the dataset `train_auto_numeric.csv` into a pandas DataFrame called `auto_numeric`. Display the number of data points and attributes in the dataset."
   ]
  },
  {
   "cell_type": "code",
   "execution_count": 3,
   "metadata": {
    "collapsed": false
   },
   "outputs": [
    {
     "name": "stdout",
     "output_type": "stream",
     "text": [
      "<class 'pandas.core.frame.DataFrame'>\n",
      "RangeIndex: 159 entries, 0 to 158\n",
      "Data columns (total 16 columns):\n",
      "normalized-losses          159 non-null float64\n",
      "wheel-base                 159 non-null float64\n",
      "length                     159 non-null float64\n",
      "width                      159 non-null float64\n",
      "height                     159 non-null float64\n",
      "engine-size                159 non-null float64\n",
      "bore                       159 non-null float64\n",
      "stroke                     159 non-null float64\n",
      "compression-ratio          159 non-null float64\n",
      "engine-power               159 non-null float64\n",
      "peak-rpm                   159 non-null float64\n",
      "city-mpg                   159 non-null float64\n",
      "highway-mpg                159 non-null float64\n",
      "mean-effective-pressure    159 non-null float64\n",
      "torque                     159 non-null float64\n",
      "price                      159 non-null float64\n",
      "dtypes: float64(16)\n",
      "memory usage: 19.9 KB\n",
      "None\n"
     ]
    }
   ],
   "source": [
    "# Your code goes here\n",
    "numeric_path = os.path.join(os.getcwd(),'datasets','train_auto_numeric.csv')\n",
    "auto_numeric = pd.read_csv(numeric_path,delimiter=',')\n",
    "print (auto_numeric.info())"
   ]
  },
  {
   "cell_type": "markdown",
   "metadata": {},
   "source": [
    "### ========== Question 1.2 ==========\n",
    "Display the first 8 instances of the dataset."
   ]
  },
  {
   "cell_type": "code",
   "execution_count": 4,
   "metadata": {
    "collapsed": false
   },
   "outputs": [
    {
     "name": "stdout",
     "output_type": "stream",
     "text": [
      "   normalized-losses  wheel-base  length  width  height  engine-size  bore  \\\n",
      "0              164.0        99.8   176.6   66.2    54.3         8.85  3.19   \n",
      "1              110.0        99.4   162.4   66.4    54.3        15.18  3.19   \n",
      "2              158.0       105.8   192.7   71.4    51.6        15.18  3.94   \n",
      "3              106.0        86.6   158.7   67.7    55.9        13.74  3.13   \n",
      "4              192.0       101.2   176.8   64.8    54.3         8.67  3.50   \n",
      "5              194.0       110.0   190.9   71.4    58.7         8.67  3.78   \n",
      "6              188.0       101.2   176.8   64.8    54.3        26.58  3.31   \n",
      "7              150.0       101.2   176.8   64.8    56.1        26.58  3.03   \n",
      "\n",
      "   stroke  compression-ratio  engine-power  peak-rpm  city-mpg  highway-mpg  \\\n",
      "0    3.40               10.0      102000.0    5500.0      24.0         30.0   \n",
      "1    3.40                8.0      115000.0    5500.0      18.0         22.0   \n",
      "2    2.80                8.5       70000.0    4400.0      28.0         30.0   \n",
      "3    3.50                7.8      140000.0    5600.0      32.0         20.0   \n",
      "4    2.80                8.8      101000.0    5800.0      23.0         29.0   \n",
      "5    3.90               22.5      101000.0    6000.0      47.0         53.0   \n",
      "6    3.19                9.0      121000.0    4250.0      21.0         28.0   \n",
      "7    3.19                8.0      134000.0    4400.0      28.0         37.0   \n",
      "\n",
      "   mean-effective-pressure   torque    price  \n",
      "0                    40.52    57.68  13950.0  \n",
      "1                    47.39    59.59  17450.0  \n",
      "2                     0.85  3344.79  17710.0  \n",
      "3                    44.74    68.97  23875.0  \n",
      "4                    44.78    53.48  16430.0  \n",
      "5                     1.80  1330.28  16925.0  \n",
      "6                     7.19   377.06  20970.0  \n",
      "7                    57.37    48.20  21105.0  \n"
     ]
    }
   ],
   "source": [
    "# Your code goes here\n",
    "print (auto_numeric.head(8))"
   ]
  },
  {
   "cell_type": "markdown",
   "metadata": {},
   "source": [
    "### ========== Question 1.3 ==========\n",
    "Display the summary statistics for the dataset."
   ]
  },
  {
   "cell_type": "code",
   "execution_count": 5,
   "metadata": {
    "collapsed": false
   },
   "outputs": [
    {
     "name": "stdout",
     "output_type": "stream",
     "text": [
      "       normalized-losses  wheel-base      length       width      height  \\\n",
      "count         159.000000  159.000000  159.000000  159.000000  159.000000   \n",
      "mean          121.955975   98.559748  171.698113   65.729560   53.925157   \n",
      "std            39.434186    5.803361   12.656791    2.292021    2.410446   \n",
      "min            65.000000   86.600000  141.100000   60.300000   49.400000   \n",
      "25%            93.000000   94.500000  163.400000   64.000000   52.000000   \n",
      "50%           110.000000   97.000000  171.700000   65.400000   54.100000   \n",
      "75%           145.000000  101.200000  177.800000   66.500000   55.600000   \n",
      "max           256.000000  115.600000  202.600000   71.700000   59.800000   \n",
      "\n",
      "       engine-size        bore      stroke  compression-ratio   engine-power  \\\n",
      "count   159.000000  159.000000  159.000000         159.000000     159.000000   \n",
      "mean     14.056352    3.294528    3.219874          10.446855   98528.301887   \n",
      "std      17.143568    0.296959    0.381833           4.414796   34123.715967   \n",
      "min       3.390000    2.540000    2.070000           7.000000   48000.000000   \n",
      "25%       6.960000    3.050000    3.070000           8.600000   69000.000000   \n",
      "50%       9.030000    3.270000    3.270000           9.000000   92000.000000   \n",
      "75%      14.885000    3.580000    3.410000           9.400000  116000.000000   \n",
      "max     174.160000    3.940000    4.170000          23.000000  200000.000000   \n",
      "\n",
      "          peak-rpm    city-mpg  highway-mpg  mean-effective-pressure  \\\n",
      "count   159.000000  159.000000   159.000000               159.000000   \n",
      "mean   5072.012579   27.113208    32.327044                46.180503   \n",
      "std     549.988239    7.848229     8.231998                28.780966   \n",
      "min    4150.000000   15.000000    18.000000                 0.490000   \n",
      "25%    4800.000000   22.000000    26.500000                21.775000   \n",
      "50%    5100.000000   26.000000    32.000000                49.800000   \n",
      "75%    5450.000000   31.000000    37.000000                68.495000   \n",
      "max    6600.000000   49.000000    54.000000                99.850000   \n",
      "\n",
      "            torque         price  \n",
      "count   159.000000    159.000000  \n",
      "mean    200.055031  11684.723270  \n",
      "std     513.289289   6744.910579  \n",
      "min      19.400000   5118.000000  \n",
      "25%      34.140000   7372.000000  \n",
      "50%      55.900000   9233.000000  \n",
      "75%     119.990000  14719.500000  \n",
      "max    3912.870000  42056.000000  \n"
     ]
    }
   ],
   "source": [
    "# Your code goes here\n",
    "print (auto_numeric.describe())"
   ]
  },
  {
   "cell_type": "markdown",
   "metadata": {},
   "source": [
    "### ========== Question 1.4  ==========\n",
    "Produce a scatter plot of `price` against `engine-power`. Label axes appropriately and include a title in your plot."
   ]
  },
  {
   "cell_type": "code",
   "execution_count": 6,
   "metadata": {
    "collapsed": false
   },
   "outputs": [
    {
     "data": {
      "text/plain": [
       "<matplotlib.text.Text at 0xc6d2e48>"
      ]
     },
     "execution_count": 6,
     "metadata": {},
     "output_type": "execute_result"
    },
    {
     "data": {
      "image/png": "[encoded data removed]",
      "text/plain": [
       "<matplotlib.figure.Figure at 0xc6d2198>"
      ]
     },
     "metadata": {},
     "output_type": "display_data"
    }
   ],
   "source": [
    "# Your code goes here\n",
    "x_axis = auto_numeric['engine-power']\n",
    "y_axis = auto_numeric['price']\n",
    "plt.scatter (x_axis,y_axis)\n",
    "plt.title('Price depends on Engine Power', fontsize=16)\n",
    "plt.xlabel('Engine Power', fontsize=14)\n",
    "plt.ylabel('Price', fontsize=14)"
   ]
  },
  {
   "cell_type": "markdown",
   "metadata": {},
   "source": [
    "### ========== Question 1.5  ==========\n",
    "Do you think that engine-power alone is sufficient for predicting the price? Can you make any other observations on the data from the above plot? Please explain your answer in 2-3 sentences. "
   ]
  },
  {
   "cell_type": "markdown",
   "metadata": {},
   "source": [
    "*Your answer goes here*\n",
    "\n",
    "As seen in the above plot, predicting the price of automobiles based on only engine-power might not be enough. There are automobiles which have distinct engine-power, but have the similar price(e.g.automobiles priced 10,000 have so many options in engine-power). In addition, we can also find two automobiles which have exact engine-power, but one is a lot cheaper than the other (e.g. 120,000 engine-power automobiles might be priced 30,000 or more than 40,000)"
   ]
  },
  {
   "cell_type": "markdown",
   "metadata": {},
   "source": [
    "### ========== Question 1.6  ==========\n",
    "Visualise the distribution of the car prices. Choose a sensible value for the number of bins in the histogram. Again, label axes appropriately and include a title in your plot."
   ]
  },
  {
   "cell_type": "code",
   "execution_count": 7,
   "metadata": {
    "collapsed": false
   },
   "outputs": [
    {
     "data": {
      "image/png": "[encoded data removed]",
      "text/plain": [
       "<matplotlib.figure.Figure at 0x3da4908>"
      ]
     },
     "metadata": {},
     "output_type": "display_data"
    }
   ],
   "source": [
    "# Your code goes here\n",
    "plt.hist(y_axis,'auto',range=(4000,45000))\n",
    "plt.title('Car Prices Distribution',fontsize=16)\n",
    "plt.xlabel('Price',fontsize=14)\n",
    "plt.ylabel('Count',fontsize=14)\n",
    "plt.show()"
   ]
  },
  {
   "cell_type": "markdown",
   "metadata": {},
   "source": [
    "### ========== Question 1.7  ==========\n",
    "How would you preprocess it to improve the performance of linear regression? Don’t do it at this stage, but instead in one sentence explain why you would do what you suggested."
   ]
  },
  {
   "cell_type": "markdown",
   "metadata": {},
   "source": [
    "*Your answer goes here*\n",
    "Since linear regression is really sensitive to outliers, I would try to remove some obvious outliers.\n"
   ]
  },
  {
   "cell_type": "markdown",
   "metadata": {},
   "source": [
    "### ========== Question 1.8  ==========\n",
    "Now we want to build a simple linear regression model. First we need to define our input and target variables. Store the values of the attribute `engine-power` in a vector `X` and the values of our target variable `price` in a vector `y`."
   ]
  },
  {
   "cell_type": "code",
   "execution_count": 8,
   "metadata": {
    "collapsed": false
   },
   "outputs": [
    {
     "name": "stdout",
     "output_type": "stream",
     "text": [
      "0      102000.0\n",
      "1      115000.0\n",
      "2       70000.0\n",
      "3      140000.0\n",
      "4      101000.0\n",
      "5      101000.0\n",
      "6      121000.0\n",
      "7      134000.0\n",
      "8       48000.0\n",
      "9       70000.0\n",
      "10      70000.0\n",
      "11     176000.0\n",
      "12      68000.0\n",
      "13     102000.0\n",
      "14     162000.0\n",
      "15      68000.0\n",
      "16      68000.0\n",
      "17      88000.0\n",
      "18     145000.0\n",
      "19      58000.0\n",
      "20      76000.0\n",
      "21      60000.0\n",
      "22      76000.0\n",
      "23      76000.0\n",
      "24     121000.0\n",
      "25      90000.0\n",
      "26      86000.0\n",
      "27      86000.0\n",
      "28     140000.0\n",
      "29      86000.0\n",
      "         ...   \n",
      "129    143000.0\n",
      "130    116000.0\n",
      "131    116000.0\n",
      "132     48000.0\n",
      "133     73000.0\n",
      "134     92000.0\n",
      "135     92000.0\n",
      "136     92000.0\n",
      "137    156000.0\n",
      "138    161000.0\n",
      "139    156000.0\n",
      "140    200000.0\n",
      "141     85000.0\n",
      "142     52000.0\n",
      "143     85000.0\n",
      "144     60000.0\n",
      "145    116000.0\n",
      "146    100000.0\n",
      "147     90000.0\n",
      "148     68000.0\n",
      "149    114000.0\n",
      "150    110000.0\n",
      "151    114000.0\n",
      "152    116000.0\n",
      "153    162000.0\n",
      "154    114000.0\n",
      "155    160000.0\n",
      "156    134000.0\n",
      "157    106000.0\n",
      "158    114000.0\n",
      "Name: engine-power, dtype: float64\n",
      "0      13950.0\n",
      "1      17450.0\n",
      "2      17710.0\n",
      "3      23875.0\n",
      "4      16430.0\n",
      "5      16925.0\n",
      "6      20970.0\n",
      "7      21105.0\n",
      "8       5151.0\n",
      "9       6295.0\n",
      "10      6575.0\n",
      "11      5572.0\n",
      "12      6377.0\n",
      "13      7957.0\n",
      "14      6229.0\n",
      "15      6692.0\n",
      "16      7609.0\n",
      "17      8921.0\n",
      "18     12964.0\n",
      "19      6479.0\n",
      "20      6855.0\n",
      "21      5399.0\n",
      "22      6529.0\n",
      "23      7129.0\n",
      "24      7295.0\n",
      "25      7295.0\n",
      "26      7895.0\n",
      "27      9095.0\n",
      "28      8845.0\n",
      "29     10295.0\n",
      "        ...   \n",
      "129    11199.0\n",
      "130    11549.0\n",
      "131    17669.0\n",
      "132     8948.0\n",
      "133    10698.0\n",
      "134     9988.0\n",
      "135    10898.0\n",
      "136    11248.0\n",
      "137    16558.0\n",
      "138    15998.0\n",
      "139    15690.0\n",
      "140     7775.0\n",
      "141     7975.0\n",
      "142     7995.0\n",
      "143     8195.0\n",
      "144     8495.0\n",
      "145     9495.0\n",
      "146     9995.0\n",
      "147     9980.0\n",
      "148    12940.0\n",
      "149    13415.0\n",
      "150    15985.0\n",
      "151    16515.0\n",
      "152    18420.0\n",
      "153    18950.0\n",
      "154    16845.0\n",
      "155    19045.0\n",
      "156    21485.0\n",
      "157    22470.0\n",
      "158    22625.0\n",
      "Name: price, dtype: float64\n"
     ]
    }
   ],
   "source": [
    "# Your code goes here\n",
    "X = auto_numeric['engine-power']\n",
    "y = auto_numeric['price']\n",
    "print (X)\n",
    "print (y)"
   ]
  },
  {
   "cell_type": "markdown",
   "metadata": {},
   "source": [
    "### ========== Question 1.9 ==========\n",
    "For technical reasons, we need to convert `X` into a 2D array, otherwise we will receive an error when trying to use it for building models. Perform this transformation and confirm that the shape of the resulting array is (`n`,1) where `n` is the number of instances in the dataset. "
   ]
  },
  {
   "cell_type": "code",
   "execution_count": 9,
   "metadata": {
    "collapsed": false
   },
   "outputs": [
    {
     "name": "stdout",
     "output_type": "stream",
     "text": [
      "(159L, 1L)\n"
     ]
    }
   ],
   "source": [
    "# Your code goes here\n",
    "X2 = np.reshape(X,(X.shape[0],1))\n",
    "print(X2.shape)"
   ]
  },
  {
   "cell_type": "markdown",
   "metadata": {},
   "source": [
    "### ========== Question 1.10  ==========\n",
    "Now we want to use Hold-out validation to split the dataset into training and testing subsets. Use 80% of the data for training and the remaining 20% for testing. Store your data into matrices `X_train`, `X_test`, `y_train`, `y_test`."
   ]
  },
  {
   "cell_type": "code",
   "execution_count": 37,
   "metadata": {
    "collapsed": false
   },
   "outputs": [],
   "source": [
    "# Your code goes here\n",
    "# Assume 80% of the data is 127 instances, and 20% of the data is 32 instances\n",
    "\n",
    "# Take the first 127 instances\n",
    "X_train_data =  X[0:127]\n",
    "X_train = np.reshape(X_train_data,(X_train_data.shape[0],1))\n",
    "y_train = y[0:127]\n",
    "\n",
    "# Take the other part\n",
    "X_test_data = X[128:159]\n",
    "X_test = np.reshape(X_test_data,(X_test_data.shape[0],1))\n",
    "y_test = y[128:159]"
   ]
  },
  {
   "cell_type": "markdown",
   "metadata": {},
   "source": [
    "### ========== Question 1.11  ==========\n",
    "By using Scikit-learn's [`LinearRegression`](http://scikit-learn.org/0.17/modules/generated/sklearn.linear_model.LinearRegression.html) fit a model to the training data. When initialising the model, set the `normalize` parameter to `True` and use default settings for the other parameters."
   ]
  },
  {
   "cell_type": "code",
   "execution_count": 38,
   "metadata": {
    "collapsed": false
   },
   "outputs": [
    {
     "data": {
      "text/plain": [
       "LinearRegression(copy_X=True, fit_intercept=True, n_jobs=1, normalize=True)"
      ]
     },
     "execution_count": 38,
     "metadata": {},
     "output_type": "execute_result"
    }
   ],
   "source": [
    "# Your code goes here\n",
    "reg = LinearRegression(normalize=True)\n",
    "reg.fit(X_train,y_train)"
   ]
  },
  {
   "cell_type": "markdown",
   "metadata": {},
   "source": [
    "### ========== Question 1.12  ==========\n",
    "By looking into the attributes of your model, write down an equation for predicting the price of a car given the engine-power."
   ]
  },
  {
   "cell_type": "code",
   "execution_count": 39,
   "metadata": {
    "collapsed": false
   },
   "outputs": [
    {
     "name": "stdout",
     "output_type": "stream",
     "text": [
      "y =  [ 0.09750227] x +  1984.68595726\n",
      "price =  [ 0.09750227] engine-power +  1984.68595726\n"
     ]
    }
   ],
   "source": [
    "# Your code goes here\n",
    "print ('y = ',reg.coef_,'x + ',reg.intercept_)\n",
    "print ('price = ',reg.coef_,'engine-power + ',reg.intercept_)"
   ]
  },
  {
   "cell_type": "markdown",
   "metadata": {},
   "source": [
    "### ========== Question 1.13  ==========\n",
    "What happens to the price as one more unit of engine-power is added? By examining the magnitude of the regression coefficient is it possible to tell whether or not engine-power is an important influential variable on price? Explain your answer in 1-2 sentences."
   ]
  },
  {
   "cell_type": "markdown",
   "metadata": {},
   "source": [
    "*Your answer goes here*\n",
    "Whenever one more unit of engine-power is added, the price will go up around 10% of the engine-power value. \n"
   ]
  },
  {
   "cell_type": "markdown",
   "metadata": {},
   "source": [
    "### ========== Question 1.14  ==========\n",
    "Produce a scatter plot similar to the one in Question 1.4 but use training data only this time. Add the regression line to the plot and show the predictions on the training set by using a different marker. Label axes appropriately and add a title to the graph. "
   ]
  },
  {
   "cell_type": "code",
   "execution_count": 13,
   "metadata": {
    "collapsed": false
   },
   "outputs": [
    {
     "data": {
      "text/plain": [
       "<matplotlib.collections.PathCollection at 0xcb256d8>"
      ]
     },
     "execution_count": 13,
     "metadata": {},
     "output_type": "execute_result"
    },
    {
     "data": {
      "image/png": "[encoded data removed]",
      "text/plain": [
       "<matplotlib.figure.Figure at 0xca5dcc0>"
      ]
     },
     "metadata": {},
     "output_type": "display_data"
    }
   ],
   "source": [
    "# Your code goes here\n",
    "x_axis = X_train\n",
    "y_axis = y_train\n",
    "plt.scatter (x_axis,y_axis,s=10)\n",
    "plt.title('Price depends on Engine Power', fontsize=16)\n",
    "plt.xlabel('Engine Power', fontsize=14)\n",
    "plt.ylabel('Price', fontsize=14)\n",
    "plt.plot(x_axis,((x_axis*reg.coef_)+reg.intercept_))\n",
    "plt.scatter (x_axis,reg.predict(X_train),marker=\">\",c='r',s=50)"
   ]
  },
  {
   "cell_type": "markdown",
   "metadata": {},
   "source": [
    "### ========== Question 1.15  ==========\n",
    "So far we have used Hold-out validation. Can you think of a disadvantage of using this method, especially when dealing with small datasets?"
   ]
  },
  {
   "cell_type": "markdown",
   "metadata": {},
   "source": [
    "*Your answer goes here*\n",
    "The datasets can be not randomized enough, so one subset that we hold, is actually the one that we should be used in train, in order for our model to be more precise on the test data."
   ]
  },
  {
   "cell_type": "markdown",
   "metadata": {},
   "source": [
    "### ========== Question 1.16  ==========\n",
    "Now we want to use [`KFold`](http://scikit-learn.org/0.17/modules/generated/sklearn.cross_validation.KFold.html) cross-validation to evaluate the performance of the regression model. Famliriase yourself with the method and make sure you understand the differences between Hold-out and K-fold cross-validation. By using Scikit-learn's `K-fold` class construct a 5-fold cross-validation iterator for the `auto_numeric` dataset. Set the `shuffle` parameter to `True` and `random_state` to `0`. "
   ]
  },
  {
   "cell_type": "code",
   "execution_count": 14,
   "metadata": {
    "collapsed": false
   },
   "outputs": [],
   "source": [
    "# Your code goes here\n",
    "kf = KFold(auto_numeric.shape[0],n_folds=5,shuffle=True,random_state=0)"
   ]
  },
  {
   "cell_type": "markdown",
   "metadata": {},
   "source": [
    "### ========== Question 1.17  ==========\n",
    "By making use of the iterator you constructed in the previous question, loop through the 5 folds and display the mean value of the `price` variable for the training instances only in each fold."
   ]
  },
  {
   "cell_type": "code",
   "execution_count": 23,
   "metadata": {
    "collapsed": false
   },
   "outputs": [
    {
     "name": "stdout",
     "output_type": "stream",
     "text": [
      "11853.2677165\n",
      "11635.976378\n",
      "11689.8740157\n",
      "11709.8267717\n",
      "11535.84375\n"
     ]
    }
   ],
   "source": [
    "# Your code goes here\n",
    "for train_index, test_index in kf:\n",
    "    #X_train_data,X_test_data = X[train_index],X[test_index]\n",
    "    #y_train,y_test = y[train_index],y[test_index]\n",
    "    y_train = y[train_index]\n",
    "    print (y_train.mean())"
   ]
  },
  {
   "cell_type": "markdown",
   "metadata": {},
   "source": [
    "### ========== Question 1.18  ==========\n",
    "Now initialise a new `LinearRegression` model and fit it by making use of the cross-validation iterator, the `X` and `y` arrays defined above and the [`cross_val_predict`](http://scikit-learn.org/0.17/modules/generated/sklearn.cross_validation.cross_val_predict.html) function. Display the shape of your prediction and confirm it has the same dimensionality as your `y` vector."
   ]
  },
  {
   "cell_type": "code",
   "execution_count": 68,
   "metadata": {
    "collapsed": false
   },
   "outputs": [
    {
     "name": "stdout",
     "output_type": "stream",
     "text": [
      "(159L,) (159L,)\n"
     ]
    }
   ],
   "source": [
    "# Your code goes here\n",
    "new_reg = LinearRegression(normalize=True) # initisalise a new LinearRegression model\n",
    "predicted = cross_val_predict(new_reg,X2,y,cv=kf) #X2 : 2D array of input X\n",
    "print (predicted.shape,y.shape)"
   ]
  },
  {
   "cell_type": "markdown",
   "metadata": {},
   "source": [
    "### ========== Question 1.19  ==========\n",
    "Report the Coefficient of Determination (R^2), Root Mean Squared Error (RMSE), Mean Absolute Error (MAE) and Correlation Coefficient (CC) from the simple linear regression model you build in Question 1.18. *Hint: RMSE is the square root of the Mean Squared Error (MSE). For CC you might find numpy's [`corrcoef`](http://docs.scipy.org/doc/numpy/reference/generated/numpy.corrcoef.html) function useful.* "
   ]
  },
  {
   "cell_type": "code",
   "execution_count": 70,
   "metadata": {
    "collapsed": false
   },
   "outputs": [
    {
     "name": "stdout",
     "output_type": "stream",
     "text": [
      "Coefficient of Determination: 0.173005270976\n",
      "Root Mean Squared Error: 6114.45211862\n",
      "Mean Absolute Error: 3987.95779619\n"
     ]
    }
   ],
   "source": [
    "# Your code goes here\n",
    "r2 = r2_score(y,predicted)\n",
    "\n",
    "mse = mean_squared_error(y,predicted)\n",
    "rmse = np.sqrt(mse)\n",
    "\n",
    "mae = mean_absolute_error(y,predicted)\n",
    "\n",
    "print ('Coefficient of Determination:',r2)\n",
    "print ('Root Mean Squared Error:',rmse)\n",
    "print ('Mean Absolute Error:',mae)"
   ]
  },
  {
   "cell_type": "code",
   "execution_count": 71,
   "metadata": {
    "collapsed": false
   },
   "outputs": [
    {
     "name": "stdout",
     "output_type": "stream",
     "text": [
      "Correlation Coefficient: 66.3224296478\n"
     ]
    }
   ],
   "source": [
    "# correlation coefficient\n",
    "mean_pred = np.mean(predicted) \n",
    "mean_y = np.mean(y)\n",
    "a = predicted-mean_pred # predicted value - mean \n",
    "b = y-mean_y # target value - mean \n",
    "sd_a = a**2 \n",
    "sd_b = b**2\n",
    "sum_sd_a = np.sum(sd_a)\n",
    "sum_sd_b = np.sum(sd_b)\n",
    "\n",
    "dividend = np.sum(np.multiply(a,b))\n",
    "divider = np.sqrt(np.multiply(sum_sd_a,sum_sd_b))\n",
    "cc = (dividend/divider)*len(a)\n",
    "print ('Correlation Coefficient:',cc)"
   ]
  },
  {
   "cell_type": "markdown",
   "metadata": {},
   "source": [
    "### ========== Question 1.20  ==========\n",
    "What do the above metrics intend to measure? Relate the values of CC, MAE and RMSE to the observations you made in Question 1.5. Explain your answer in 1-2 short paragraphs."
   ]
  },
  {
   "cell_type": "markdown",
   "metadata": {},
   "source": [
    "*Your answer goes here*\n",
    "\n"
   ]
  },
  {
   "cell_type": "markdown",
   "metadata": {},
   "source": [
    "### ========== Question 1.21 ==========\n",
    "Show a histogram of the residuals of the linear regression model (i.e. true - predicted values). Label axes appropriately and add a title to your plot. Does the distribution of residuals look like what you expected?"
   ]
  },
  {
   "cell_type": "code",
   "execution_count": 56,
   "metadata": {
    "collapsed": false
   },
   "outputs": [
    {
     "data": {
      "image/png": "[encoded data removed]",
      "text/plain": [
       "<matplotlib.figure.Figure at 0xcbf2f60>"
      ]
     },
     "metadata": {},
     "output_type": "display_data"
    }
   ],
   "source": [
    "# Your code goes here\n",
    "residuals = y - predicted\n",
    "plt.hist(residuals,'auto') #range=(4000,45000)\n",
    "plt.title('Distance Between Predicted & True values ',fontsize=16)\n",
    "plt.xlabel('Error',fontsize=14)\n",
    "plt.ylabel('Count',fontsize=14)\n",
    "plt.show()"
   ]
  },
  {
   "cell_type": "markdown",
   "metadata": {},
   "source": [
    "*Your answer goes here*\n",
    "\n",
    "Most of the datas centered near zero value,which means most of the predictions were near correct. But unfortunately, there are few which are really far away from the real value (most likely the outliers data). In conclusion, it appears like what I expected. "
   ]
  },
  {
   "cell_type": "markdown",
   "metadata": {},
   "source": [
    "### ========== Question 1.22 ==========\n",
    "Load the new dataset `train_auto_base.csv` into a pandas DataFrame `auto_base`. Again by using the `engine-power` attribute as predictor and `price` as target variable build a LinearRegression model on this dataset. Report the R^2, RMSE, MAE and CC metrics for this model by making use of the K-fold CV iterator constructed in Question 1.16."
   ]
  },
  {
   "cell_type": "code",
   "execution_count": 72,
   "metadata": {
    "collapsed": false
   },
   "outputs": [
    {
     "name": "stdout",
     "output_type": "stream",
     "text": [
      "Coefficient of Determination: -0.00213595381121\n",
      "Root Mean Squared Error: 6730.84360395\n",
      "Mean Absolute Error: 4901.86096203\n",
      "Correlation Coefficient: -9.84439215336\n"
     ]
    }
   ],
   "source": [
    "# Your code goes here\n",
    "# load the datasets into a dataframe\n",
    "auto_base_path = os.path.join(os.getcwd(),'datasets','train_auto_base.csv')\n",
    "auto_base = pd.read_csv(auto_base_path,delimiter=',')\n",
    "\n",
    "# initialise a regression model\n",
    "new_linreg = LinearRegression(normalize=True)\n",
    "pre_x_ab = auto_base['engine-power']\n",
    "x_ab = np.reshape(pre_x_ab,(pre_x_ab.shape[0],1))\n",
    "y_ab = auto_base['price']\n",
    "predicted_ab = cross_val_predict(new_linreg,x_ab,y_ab,cv=kf)\n",
    "\n",
    "# evaluation reports\n",
    "r2_ab = r2_score(y_ab,predicted_ab)\n",
    "\n",
    "mse_ab = mean_squared_error(y_ab,predicted_ab)\n",
    "rmse_ab = np.sqrt(mse_ab)\n",
    "\n",
    "mae_ab = mean_absolute_error(y_ab,predicted_ab)\n",
    "\n",
    "# correlation coefficient\n",
    "mean_pred_ab = np.mean(predicted_ab) \n",
    "mean_y_ab = np.mean(y_ab)\n",
    "a_ab = predicted_ab-mean_pred_ab # predicted value - mean \n",
    "b_ab = y_ab-mean_y_ab # target value - mean \n",
    "sd_a_ab = a_ab**2 \n",
    "sd_b_ab = b_ab**2\n",
    "sum_sd_a_ab = np.sum(sd_a_ab)\n",
    "sum_sd_b_ab = np.sum(sd_b_ab)\n",
    "\n",
    "dividend_ab = np.sum(np.multiply(a_ab,b_ab))\n",
    "divider_ab = np.sqrt(np.multiply(sum_sd_a_ab,sum_sd_b_ab))\n",
    "cc_ab = (dividend_ab/divider_ab)*len(a_ab)\n",
    "print ('Coefficient of Determination:',r2_ab)\n",
    "print ('Root Mean Squared Error:',rmse_ab)\n",
    "print ('Mean Absolute Error:',mae_ab)\n",
    "print ('Correlation Coefficient:',cc_ab)"
   ]
  },
  {
   "cell_type": "markdown",
   "metadata": {},
   "source": [
    "### ========== Question 1.23 ==========\n",
    "Show a scatter plot of true vs. predicted prices and another one of engine-power vs. predicted price. Use a single plot with two subplots. Label axes appropriately."
   ]
  },
  {
   "cell_type": "code",
   "execution_count": 63,
   "metadata": {
    "collapsed": false,
    "scrolled": true
   },
   "outputs": [
    {
     "data": {
      "text/plain": [
       "<matplotlib.collections.PathCollection at 0x11737470>"
      ]
     },
     "execution_count": 63,
     "metadata": {},
     "output_type": "execute_result"
    },
    {
     "data": {
      "image/png": "[encoded data removed]",
      "text/plain": [
       "<matplotlib.figure.Figure at 0xd4773c8>"
      ]
     },
     "metadata": {},
     "output_type": "display_data"
    }
   ],
   "source": [
    "# Your code goes here\n",
    "f = plt.figure(1)       # create a figure\n",
    "f.set_figheight(10)\n",
    "f.set_figwidth(15)\n",
    "plt.subplot(121)    # the first subplot in the first figure, \n",
    "plt.title('True vs Predicted prices',fontsize=16)\n",
    "plt.xlabel('Predicted price',fontsize=14)\n",
    "plt.ylabel('True price',fontsize=14)\n",
    "plt.scatter(predicted,y)\n",
    "\n",
    "plt.subplot(122)    # second plot\n",
    "plt.title('Engine-power vs Predicted price',fontsize=16)\n",
    "plt.xlabel('Predicted price',fontsize=14)\n",
    "plt.ylabel('Engine-power')\n",
    "y_new = auto_numeric['engine-power']\n",
    "plt.scatter (predicted,y_new)"
   ]
  },
  {
   "cell_type": "markdown",
   "metadata": {},
   "source": [
    "### ========== Question 1.24 ==========\n",
    "What is the simplest baseline model for the purposes of regression? Relate your answer to the regression model you have just built as part of this question. Can the predictions of this model be justified given the procedure you followed to train it?"
   ]
  },
  {
   "cell_type": "markdown",
   "metadata": {},
   "source": [
    "*Your answer goes here*\n",
    "\n"
   ]
  },
  {
   "cell_type": "markdown",
   "metadata": {},
   "source": [
    "### ========== Question 1.25 ==========\n",
    "Why do you think this model performs so poorly? (*Hint: Justify your answer by displaying some statistics of the `auto_base` dataset.*)"
   ]
  },
  {
   "cell_type": "code",
   "execution_count": 66,
   "metadata": {
    "collapsed": false
   },
   "outputs": [
    {
     "data": {
      "text/html": [
       "<div>\n",
       "<table border=\"1\" class=\"dataframe\">\n",
       "  <thead>\n",
       "    <tr style=\"text-align: right;\">\n",
       "      <th></th>\n",
       "      <th>engine-power</th>\n",
       "      <th>price</th>\n",
       "    </tr>\n",
       "  </thead>\n",
       "  <tbody>\n",
       "    <tr>\n",
       "      <th>count</th>\n",
       "      <td>159.0</td>\n",
       "      <td>159.000000</td>\n",
       "    </tr>\n",
       "    <tr>\n",
       "      <th>mean</th>\n",
       "      <td>1.0</td>\n",
       "      <td>11684.723270</td>\n",
       "    </tr>\n",
       "    <tr>\n",
       "      <th>std</th>\n",
       "      <td>0.0</td>\n",
       "      <td>6744.910579</td>\n",
       "    </tr>\n",
       "    <tr>\n",
       "      <th>min</th>\n",
       "      <td>1.0</td>\n",
       "      <td>5118.000000</td>\n",
       "    </tr>\n",
       "    <tr>\n",
       "      <th>25%</th>\n",
       "      <td>1.0</td>\n",
       "      <td>7372.000000</td>\n",
       "    </tr>\n",
       "    <tr>\n",
       "      <th>50%</th>\n",
       "      <td>1.0</td>\n",
       "      <td>9233.000000</td>\n",
       "    </tr>\n",
       "    <tr>\n",
       "      <th>75%</th>\n",
       "      <td>1.0</td>\n",
       "      <td>14719.500000</td>\n",
       "    </tr>\n",
       "    <tr>\n",
       "      <th>max</th>\n",
       "      <td>1.0</td>\n",
       "      <td>42056.000000</td>\n",
       "    </tr>\n",
       "  </tbody>\n",
       "</table>\n",
       "</div>"
      ],
      "text/plain": [
       "       engine-power         price\n",
       "count         159.0    159.000000\n",
       "mean            1.0  11684.723270\n",
       "std             0.0   6744.910579\n",
       "min             1.0   5118.000000\n",
       "25%             1.0   7372.000000\n",
       "50%             1.0   9233.000000\n",
       "75%             1.0  14719.500000\n",
       "max             1.0  42056.000000"
      ]
     },
     "execution_count": 66,
     "metadata": {},
     "output_type": "execute_result"
    }
   ],
   "source": [
    "# Your code goes here\n",
    "auto_base.describe()"
   ]
  },
  {
   "cell_type": "markdown",
   "metadata": {},
   "source": [
    "*Your answer goes here*\n",
    "\n",
    "std deviations too high,\n",
    "and most of the data is not near the mean, so the dataset is not normally-distributed. In other words, there are some outliers, which then make the regression perform bad."
   ]
  },
  {
   "cell_type": "markdown",
   "metadata": {},
   "source": [
    "## 2. Multivariate Linear Regression [50%]\n",
    "In this Section we will fit a Multivariate Linear Regression model (LinearRegression) to the dataset. In contrast to Part 1, we will now train a model with multiple explanatory variables and ascertain how they affect our ability to predict the retail price of a car. One of our foremost concerns will be to determine exactly which attributes to include in the model and which may be left out."
   ]
  },
  {
   "cell_type": "markdown",
   "metadata": {},
   "source": [
    "### ========== Question 2.1 ==========\n",
    "Use the original dataset (`auto_numeric`) and a visualisation tool of your choice to examine whether or not any of the other attributes are particularly good at predicting the price. Can you find any? Do any attributes appear useless at predicting the price? Do any attributes exhibit significant correlations? As you answer these questions, list two attributes for each question but do not modify the dataset at this stage. Of the attributes you listed, which ones could you safely remove? Explain in 4-5 sentences. *Hint: you might find seaborn's [`pairplot`](https://stanford.edu/~mwaskom/software/seaborn/generated/seaborn.pairplot.html) function useful for this question.*"
   ]
  },
  {
   "cell_type": "code",
   "execution_count": null,
   "metadata": {
    "collapsed": false
   },
   "outputs": [],
   "source": [
    "# Your code goes here\n"
   ]
  },
  {
   "cell_type": "markdown",
   "metadata": {},
   "source": [
    "*Your answer goes here*\n",
    "\n"
   ]
  },
  {
   "cell_type": "markdown",
   "metadata": {},
   "source": [
    "### ========== Question 2.2 ==========\n",
    "We will now make a first attempt at building a Multivariate Linear Regression model using all numeric attributes. Initialise a `LinearRegression` model and predict the output by using 5-fold cross-validation and the `cross_val_predict` function."
   ]
  },
  {
   "cell_type": "code",
   "execution_count": null,
   "metadata": {
    "collapsed": true
   },
   "outputs": [],
   "source": [
    "# Your code goes here\n"
   ]
  },
  {
   "cell_type": "markdown",
   "metadata": {},
   "source": [
    "### ========== Question 2.3 ==========\n",
    "Display the Root Mean Squared Error (RMSE), Mean Absolute Error (MAE) and Correlation Coefficient (CC)."
   ]
  },
  {
   "cell_type": "code",
   "execution_count": null,
   "metadata": {
    "collapsed": false
   },
   "outputs": [],
   "source": [
    "# Your code goes here\n"
   ]
  },
  {
   "cell_type": "markdown",
   "metadata": {},
   "source": [
    "### ========== Question 2.4 ==========\n",
    " Comment on each metric display above in comparison to what you have obtained for the Simple Linear Regression model in Question 1.19."
   ]
  },
  {
   "cell_type": "markdown",
   "metadata": {},
   "source": [
    "*Your answer goes here*\n",
    "\n"
   ]
  },
  {
   "cell_type": "markdown",
   "metadata": {},
   "source": [
    "### ========== Question 2.5 ==========\n",
    "Examine the histogram for the `engine-size` attribute. Choose a sensible value for the number of bins in the histogram. Label axes appropriately and include a title in your plot."
   ]
  },
  {
   "cell_type": "code",
   "execution_count": null,
   "metadata": {
    "collapsed": false
   },
   "outputs": [],
   "source": [
    "# Your code goes here\n"
   ]
  },
  {
   "cell_type": "markdown",
   "metadata": {},
   "source": [
    "### ========== Question 2.6 ==========\n",
    "Is the distribution expected to cause a problem for regression? Explain your answer in 2-3 sentences."
   ]
  },
  {
   "cell_type": "markdown",
   "metadata": {},
   "source": [
    "*Your answer goes here*\n",
    "\n"
   ]
  },
  {
   "cell_type": "markdown",
   "metadata": {},
   "source": [
    "### ========== Question 2.7 ==========\n",
    "Transform this attribute using an appropriate simple technique from the lectures. Plot the histogram of the transformed attribute."
   ]
  },
  {
   "cell_type": "code",
   "execution_count": null,
   "metadata": {
    "collapsed": false
   },
   "outputs": [],
   "source": [
    "# Your code goes here\n"
   ]
  },
  {
   "cell_type": "markdown",
   "metadata": {},
   "source": [
    "### ========== Question 2.8 ==========\n",
    "Now re-build a Linear Regression model on the transformed dataset and report the R^2, RMSE, MAE and CC metrics."
   ]
  },
  {
   "cell_type": "code",
   "execution_count": null,
   "metadata": {
    "collapsed": false
   },
   "outputs": [],
   "source": [
    "# Your code goes here\n"
   ]
  },
  {
   "cell_type": "markdown",
   "metadata": {},
   "source": [
    "### ========== Question 2.9 ==========\n",
    "How has the performance of your model changed? Explain your answer in 1-2 sentences."
   ]
  },
  {
   "cell_type": "markdown",
   "metadata": {},
   "source": [
    "*Your answer goes here*\n",
    "\n"
   ]
  },
  {
   "cell_type": "markdown",
   "metadata": {},
   "source": [
    "### ========== Question 2.10 ==========\n",
    "So far we have performed regression with numeric attributes. We will now attempt to integrate nominal (categorical) attributes into our regression model. \n",
    "Load the dataset `train_auto_full.csv` into a pandas DataFrame called `auto_full`. Display the number of samples and attributes in the dataset. Also, display the first 20 instances of the dataset. *Hint: Execute the cell below to change the default for `max_columns` display option in pandas.*"
   ]
  },
  {
   "cell_type": "code",
   "execution_count": null,
   "metadata": {
    "collapsed": true
   },
   "outputs": [],
   "source": [
    "pd.set_option('max_columns', 30)"
   ]
  },
  {
   "cell_type": "code",
   "execution_count": null,
   "metadata": {
    "collapsed": false
   },
   "outputs": [],
   "source": [
    "# Your code goes here\n"
   ]
  },
  {
   "cell_type": "markdown",
   "metadata": {},
   "source": [
    "### ========== Question 2.11 ==========\n",
    "This dataset contains a mixture of numeric and nominal attributes. Name the variables that you think are categorical. Why can we not use the nominal attributes in their current form for the purposes of regression? "
   ]
  },
  {
   "cell_type": "markdown",
   "metadata": {},
   "source": [
    "*Your answer goes here*\n"
   ]
  },
  {
   "cell_type": "markdown",
   "metadata": {},
   "source": [
    "### ========== Question 2.12 ==========\n",
    "Now we want to convert the categorical variables by using [One-Hot-Encoding](http://scikit-learn.org/0.17/modules/generated/sklearn.preprocessing.OneHotEncoder.html#sklearn.preprocessing.OneHotEncoder). Familiriase yourself with the class. One limitation with this module is that it can deal only with categorical attributes in integer format (remember that in our example we have attributes in string format). \n",
    "\n",
    "Copy the `auto_full` dataframe into a new dataframe `auto_full_edit` and transform the categorical variables by using [Label Encoding](http://scikit-learn.org/0.17/modules/generated/sklearn.preprocessing.LabelEncoder.html). Then transform again the categorical variables by using One-Hot-Encoding. Make sure you don't transform the continuous variables. *Hint: make appropriate use of the `categorical_features` parameter in [`OneHotEncoder`](http://scikit-learn.org/0.17/modules/generated/sklearn.preprocessing.OneHotEncoder.html#sklearn.preprocessing.OneHotEncoder).*\n",
    "\n",
    "Store the transformed attributes into a numpy array `X_enc` and display its dimensionality.  \n"
   ]
  },
  {
   "cell_type": "code",
   "execution_count": null,
   "metadata": {
    "collapsed": false
   },
   "outputs": [],
   "source": [
    "# Your code goes here\n"
   ]
  },
  {
   "cell_type": "markdown",
   "metadata": {},
   "source": [
    "### ========== Question 2.13 ==========\n",
    "By using the transformed data train a multivariate linear regression model and by using 5-fold cross-validation report the R^2, RMSE, MAE and CC metrics."
   ]
  },
  {
   "cell_type": "code",
   "execution_count": null,
   "metadata": {
    "collapsed": false
   },
   "outputs": [],
   "source": [
    "# Your code goes here\n"
   ]
  },
  {
   "cell_type": "markdown",
   "metadata": {},
   "source": [
    "### ========== Question 2.14 ==========\n",
    "How does this more complex model perform with respect to your best performing model from either question 2.3 or 2.8? List one advantage and one disadvantage of using the more complex model."
   ]
  },
  {
   "cell_type": "markdown",
   "metadata": {},
   "source": [
    "*Your answer goes here*\n"
   ]
  },
  {
   "cell_type": "markdown",
   "metadata": {},
   "source": [
    "### ========== Question 2.15 ==========\n",
    "Finally, experiment with tree-based regressors (e.g. [`DecisionTreeRegressor`](http://scikit-learn.org/0.17/modules/generated/sklearn.tree.DecisionTreeRegressor.html), [`RandomForestRegressor`](http://scikit-learn.org/0.17/modules/generated/sklearn.ensemble.RandomForestRegressor.html)) and report 5-fold cross-validation scores for R^2, RMSE, MAE and CC. You should still make use of the transformations applied in 2.8. Has your performance improved? Explain your answer in 1-2 sentences."
   ]
  },
  {
   "cell_type": "code",
   "execution_count": null,
   "metadata": {
    "collapsed": false
   },
   "outputs": [],
   "source": [
    "# Your code goes here\n"
   ]
  },
  {
   "cell_type": "markdown",
   "metadata": {},
   "source": [
    "*Your answer goes here*\n"
   ]
  }
 ],
 "metadata": {
  "anaconda-cloud": {},
  "kernelspec": {
   "display_name": "Python [iaml_env]",
   "language": "python",
   "name": "Python [iaml_env]"
  },
  "language_info": {
   "codemirror_mode": {
    "name": "ipython",
    "version": 2
   },
   "file_extension": ".py",
   "mimetype": "text/x-python",
   "name": "python",
   "nbconvert_exporter": "python",
   "pygments_lexer": "ipython2",
   "version": "2.7.12"
  }
 },
 "nbformat": 4,
 "nbformat_minor": 0
}
